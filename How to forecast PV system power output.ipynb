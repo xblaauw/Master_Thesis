{
 "cells": [
  {
   "cell_type": "markdown",
   "metadata": {},
   "source": [
    "# How to forecast PV system power output using Neural Networks\n",
    "\n",
    "We begin by ingesting KNMI data, this is no easy task as the KNMI database does not lend itself particularly to ease of use... After that we encode all the data to be easier to interpret by the Neural Networks. After that step we define a model, use all the functions we create along the way to slice our dataset and define our model based on hyper parameters, run that model and evaluate the output. All of this is executed inside a loop that repeats the operations for every combination of hyper-parameter values. This is repeated for 18 jobs each configured slightly differently but architecturally similar on the UU compute cluster \"eejit\" running CentOS Linux and SLURM cluster software. Every job is given to a single node with 96 cores, 256GB RAM and a GTX1080ti and takes approximately ~100 hours to complete."
   ]
  },
  {
   "cell_type": "markdown",
   "metadata": {},
   "source": [
    "## Ingest KNMI data"
   ]
  },
  {
   "cell_type": "markdown",
   "metadata": {},
   "source": [
    "This code was written specifically for preparation of KNMI meteorological data. KNMI meteorological data comes in many smaller files each containing a few features (columns) and a cover a limited time-span. The features as measured by a multitude of meteorological sensor stations is put back-to-back into a single table. The goal is to combine the data of all features of a single station and multiple years into a single 2D time-series dataset ranging from our first measurement (00:15 1 Jan 2015) until our last measurement (00:00 1 Jan 2018) and save that in a single .csv file. This is repeated for each required collection of features.\n",
    "\n",
    "KNMI data files contain fixed width formatted tables (ACSII tables). These tables have a predefined number of characters per column in each row of the text file. These can be read with the pandas read_fwf function. This function requires a paramter \"colspecs\" which should be a list that contains tuples which each contain the first and last character that makes up that column. All files that contain \"neerslag\" - precipitation features used as an example below have been saved with the same colspecs by KNMI, please make sure this is also the case for your dataset!\n",
    "\n",
    "The code below is designed to be run from a separate .py file from the folder that contains the extracted KNMI data files. Multiple sanity checks have been included, each designed based around a painful mistake that was only found after hours if not days of trial and error with the model that is to make use of this data. "
   ]
  },
  {
   "cell_type": "code",
   "execution_count": null,
   "metadata": {},
   "outputs": [],
   "source": [
    "import pandas as pd\n",
    "import os\n",
    "import numpy as np\n",
    "os.getcwd()"
   ]
  },
  {
   "cell_type": "code",
   "execution_count": 2,
   "metadata": {},
   "outputs": [
    {
     "name": "stdout",
     "output_type": "stream",
     "text": [
      "174096\n",
      "LOCATION            0\n",
      "NAME                0\n",
      "LATITUDE            0\n",
      "LONGITUDE           0\n",
      "ALTITUDE            0\n",
      "DR_PWS_10       78146\n",
      "DR_REGENM_10    25125\n",
      "WW_COR_10       67536\n",
      "RI_PWS_10       80321\n",
      "RI_REGENM_10    21105\n",
      "dtype: int64\n",
      "['Voorschoten' 'De Kooy waarneemterrein' 'Schiphol locatie 18Ct'\n",
      " 'Vlieland locatie A' 'Berkhout' 'Hoorn Terschelling' 'Wijk aan Zee'\n",
      " 'De Bilt locatie A' 'De Bilt testlocatie A' 'Stavoren'\n",
      " 'Lelystad locatie 23t' 'Leeuwarden locatie A' 'Leeuwarden locatie obs24t'\n",
      " 'Marknesse' 'Deelen locatie A' 'Deelen locatie obs02t' 'Lauwersoog'\n",
      " 'Heino' 'Hoogeveen' 'Eelde locatie 23t' 'Hupsel' 'Nieuw Beerta'\n",
      " 'Twenthe locatie A' 'Twenthe locatie 24t' 'Vlissingen' 'Westdorpe'\n",
      " 'Wilhelminadorp' 'Hoek van Holland' 'Woensdrecht locatie A'\n",
      " 'Rotterdam locatie 24t' 'Cabauw locatie A' 'Gilze-Rijen locatie 10t'\n",
      " 'Herwijnen' 'Eindhoven locatie A' 'Eindhoven locatie obs22t'\n",
      " 'Volkel locatie A' 'Volkel locatie obs24Rt' 'Ell'\n",
      " 'Maastricht locatie 22t' 'Arcen' 'Bonaire']\n",
      "Index(['LOCATION', 'NAME', 'LATITUDE', 'LONGITUDE', 'ALTITUDE', 'DR_PWS_10',\n",
      "       'DR_REGENM_10', 'WW_COR_10', 'RI_PWS_10', 'RI_REGENM_10'],\n",
      "      dtype='object')\n"
     ]
    }
   ],
   "source": [
    "#Test run on a single file containing a slice of all the information we need and check our col_specs and header variables. I \n",
    "col_specs = [(0, 21), (21, 41), (41, 89), (89, 109), (109, 129), (129, 149), (149, 169), (169, 189), (189, 209), (209, 229), (229, 249)]\n",
    "\n",
    "header = 14\n",
    "file_name = 'kis_tor_'\n",
    "\n",
    "df = pd.read_fwf(file_name + '20150131', colspecs = col_specs,\n",
    "                 header = header, parse_dates = True, index_col = '# DTG')\n",
    "print(len(df))\n",
    "print(df.isna().sum())\n",
    "print(df['NAME'].unique())\n",
    "print(df.columns)"
   ]
  },
  {
   "cell_type": "code",
   "execution_count": 5,
   "metadata": {},
   "outputs": [
    {
     "name": "stdout",
     "output_type": "stream",
     "text": [
      "4464\n"
     ]
    },
    {
     "data": {
      "text/plain": [
       "LATITUDE          0\n",
       "LONGITUDE         0\n",
       "ALTITUDE          0\n",
       "DR_PWS_10       215\n",
       "DR_REGENM_10    201\n",
       "WW_COR_10       207\n",
       "RI_PWS_10       215\n",
       "RI_REGENM_10    201\n",
       "dtype: int64"
      ]
     },
     "execution_count": 5,
     "metadata": {},
     "output_type": "execute_result"
    }
   ],
   "source": [
    "name = 'De Bilt locatie A'\n",
    "\n",
    "test = df.loc[df['NAME'] == name]\n",
    "test = test.drop(labels = ['NAME', 'LOCATION'], axis = 1)\n",
    "print(len(test))\n",
    "test.isna().sum()"
   ]
  },
  {
   "cell_type": "markdown",
   "metadata": {},
   "source": [
    "The following loop creates a list of all the files in the working directory, creates an empty dataframe, then loops over the list with the names of each of the files in the working directory. Using string interpretation we can select only the files that start with the filename defined in code cell 2 of this chapter and print its name for sanity sake. Then we use the read_fwf function and predefined colspecs variable along with \"header\" which contains the number of rownumber of the column header in each of the KNMI datafiles. We select the Date column \"# DTG\" as our index and let the pandas date parse engine convert that into standard date-time information. I was working with data from De Bilt, therefore we want to locate the data where the entries in the \"NAME\" column match the name of the meteorological sensor station defined in the previous code-cell. Lets drop the \"NAME\" and \"LOCATION\" columns all together. Now lets append to our all_data dataframe that is defined outside of this loop. This loop repeats for all files that start with \"file_name\" contained in the working directory.\n",
    "\n",
    "Repeat this step with custom values for the \"file_name\", \"header\", \"colspecs\" and \"name\" variables and for each collection of features.\n",
    "\n",
    "Warning, may take hours to finish!"
   ]
  },
  {
   "cell_type": "code",
   "execution_count": null,
   "metadata": {},
   "outputs": [],
   "source": [
    "#FOR vochtigheid&temperatuur ONLY\n",
    "all_data = pd.DataFrame()\n",
    "list_of_files = os.listdir(os.getcwd()) #list of files in the current directory\n",
    "for each_file in list_of_files:\n",
    "    if each_file.startswith(file_name):  #since its all type str you can simply use startswith\n",
    "        print (each_file)\n",
    "        df = pd.read_fwf(each_file, colspecs = col_specs,\n",
    "                         header = header, parse_dates = True, index_col = '# DTG')\n",
    "        debilt = df.loc[df['NAME'] == name]\n",
    "        debilt = debilt.drop(labels = ['NAME', 'LOCATION'], axis = 1)\n",
    "        all_data = all_data.append(debilt)\n",
    "all_data.to_csv('2015-2017_neerslaggegevens_debilt_locatie_A.csv', sep=',')"
   ]
  },
  {
   "cell_type": "markdown",
   "metadata": {},
   "source": [
    "Now we need to prepare the data for Neural network use! Simple function would've worked just as good with less code. I instead copy pasted my code for each collection of features. For each feature i drop unnecessary features and print the remaining columns as a sanity check."
   ]
  },
  {
   "cell_type": "code",
   "execution_count": 22,
   "metadata": {},
   "outputs": [],
   "source": [
    "import pandas as pd\n",
    "import numpy as np\n",
    "import matplotlib.pyplot as plt\n",
    "import seaborn as sns"
   ]
  },
  {
   "cell_type": "code",
   "execution_count": 23,
   "metadata": {},
   "outputs": [
    {
     "data": {
      "text/plain": [
       "Index(['DR_PWS_10', 'DR_REGENM_10', 'WW_COR_10', 'RI_PWS_10', 'RI_REGENM_10'], dtype='object')"
      ]
     },
     "execution_count": 23,
     "metadata": {},
     "output_type": "execute_result"
    }
   ],
   "source": [
    "neerslag = pd.read_csv('2015-2017_neerslaggegevens_debilt_locatie_A.csv',\n",
    "                      index_col = '# DTG', parse_dates = True)\n",
    "neerslag = neerslag.drop(['LATITUDE', 'LONGITUDE', 'ALTITUDE'], axis = 1)\n",
    "neerslag.columns"
   ]
  },
  {
   "cell_type": "code",
   "execution_count": 24,
   "metadata": {},
   "outputs": [
    {
     "data": {
      "text/plain": [
       "Index(['U_BOOL_10', 'T_DRYB_10', 'TN_10CM_PAST_6H_10', 'T_DEWP_10',\n",
       "       'T_DEWP_SEA_10', 'T_DRYB_SEA_10', 'TN_DRYB_10', 'T_WETB_10',\n",
       "       'TX_DRYB_10', 'U_10', 'U_SEA_10'],\n",
       "      dtype='object')"
      ]
     },
     "execution_count": 24,
     "metadata": {},
     "output_type": "execute_result"
    }
   ],
   "source": [
    "vocht_temp = pd.read_csv('2015-2017_vochtigheid_en_temperatuur_de_bilt.csv',\n",
    "                        index_col = '# DTG', parse_dates = True)\n",
    "vocht_temp = vocht_temp.drop(['LATITUDE', 'LONGITUDE', 'ALTITUDE'], axis = 1)\n",
    "vocht_temp.columns"
   ]
  },
  {
   "cell_type": "code",
   "execution_count": 25,
   "metadata": {},
   "outputs": [
    {
     "data": {
      "text/plain": [
       "Index(['P_NAP_MSL_10', 'P_STN_LEVEL_10', 'P_SENSOR_10', 'VV_10',\n",
       "       'WW_IND_CURR_10', 'WW_IND_PAST_10_10', 'WW_CURR_10', 'WW_PAST_10',\n",
       "       'AH_10', 'MOR_10'],\n",
       "      dtype='object')"
      ]
     },
     "execution_count": 25,
     "metadata": {},
     "output_type": "execute_result"
    }
   ],
   "source": [
    "weer_druk = pd.read_csv('2015-2017_weer_en_luchtdruk_de_bilt_testlocatie_A.csv',\n",
    "                        index_col = '# DTG', parse_dates = True)\n",
    "weer_druk = weer_druk.drop(['LATITUDE', 'LONGITUDE', 'ALTITUDE'], axis = 1)\n",
    "weer_druk.columns"
   ]
  },
  {
   "cell_type": "code",
   "execution_count": 26,
   "metadata": {},
   "outputs": [
    {
     "data": {
      "text/plain": [
       "Index(['FF_10M_10', 'DD_10', 'DDN_10', 'DD_STD_10', 'DDX_10', 'FF_SENSOR_10',\n",
       "       'FF_10M_STD_10', 'FX_10M_10', 'FX_10M_MD_10', 'FX_SENSOR_10',\n",
       "       'FX_SENSOR_MD_10', 'SQUALL_10'],\n",
       "      dtype='object')"
      ]
     },
     "execution_count": 26,
     "metadata": {},
     "output_type": "execute_result"
    }
   ],
   "source": [
    "wind = pd.read_csv('2015-2017_windgegevens_debilt_locatie_A.csv',\n",
    "                        index_col = '# DTG', parse_dates = True)\n",
    "wind = wind.drop(['LATITUDE', 'LONGITUDE', 'ALTITUDE'], axis = 1)\n",
    "wind.columns"
   ]
  },
  {
   "cell_type": "code",
   "execution_count": 27,
   "metadata": {},
   "outputs": [
    {
     "data": {
      "text/plain": [
       "Index(['Q_GLOB_10', 'QN_GLOB_10', 'QX_GLOB_10', 'SQ_10'], dtype='object')"
      ]
     },
     "execution_count": 27,
     "metadata": {},
     "output_type": "execute_result"
    }
   ],
   "source": [
    "zonneschijn = pd.read_csv('2015-2017_zonneschijnduur_en_straling_debilt.csv',\n",
    "                        index_col = '# DTG', parse_dates = True)\n",
    "zonneschijn = zonneschijn.drop(['LATITUDE', 'LONGITUDE', 'ALTITUDE'], axis = 1)\n",
    "zonneschijn.columns"
   ]
  },
  {
   "cell_type": "markdown",
   "metadata": {},
   "source": [
    "Using the pandas .join method I join the other features to the Neerslag dataframe. The join function in its current configuration will join dataframes horizontally and add index entries as required. Creating a large dataframe that contains all the features for all the years from the selected meteorological sensor station(s)."
   ]
  },
  {
   "cell_type": "code",
   "execution_count": 28,
   "metadata": {},
   "outputs": [],
   "source": [
    "features = neerslag.join([vocht_temp, weer_druk, wind, zonneschijn])"
   ]
  },
  {
   "cell_type": "markdown",
   "metadata": {},
   "source": [
    "For the research 1 minute and 15 minute interval data was required. This step also eliminates many \"missing values\" also known as \"not available\"."
   ]
  },
  {
   "cell_type": "code",
   "execution_count": 29,
   "metadata": {},
   "outputs": [],
   "source": [
    "features_15T = features.resample('15T').mean()\n",
    "features_1T = features.resample('1T').mean()"
   ]
  },
  {
   "cell_type": "markdown",
   "metadata": {},
   "source": [
    "Linearly interpolating both datasets for up to a maximum of an hour's worth of missing values."
   ]
  },
  {
   "cell_type": "code",
   "execution_count": 30,
   "metadata": {},
   "outputs": [],
   "source": [
    "features_15T = features_15T.interpolate(limit = 4)\n",
    "features_1T = features_1T.interpolate(limit = 60)"
   ]
  },
  {
   "cell_type": "markdown",
   "metadata": {},
   "source": [
    "Dropping more features that I didn't end up needing for my final research from every dataset"
   ]
  },
  {
   "cell_type": "code",
   "execution_count": 31,
   "metadata": {},
   "outputs": [],
   "source": [
    "def drop_vars(df):\n",
    "    # neerslaggegevens\n",
    "    df = df.drop('DR_PWS_10', axis=1)\n",
    "    df = df.drop('WW_COR_10', axis=1)\n",
    "    df = df.drop('RI_PWS_10', axis=1)\n",
    "    df = df.drop('SQUALL_10', axis=1)\n",
    "    \n",
    "    # vocht & temp\n",
    "    df = df.drop('T_DEWP_SEA_10', axis=1)\n",
    "    df = df.drop('T_DRYB_SEA_10', axis=1)\n",
    "    df = df.drop('U_SEA_10', axis=1)\n",
    "\n",
    "    # weer & luchtdruk\n",
    "    df = df.drop('P_STN_LEVEL_10', axis=1)\n",
    "    df = df.drop('P_SENSOR_10', axis=1)\n",
    "    df = df.drop('WW_IND_CURR_10', axis=1)\n",
    "    df = df.drop('WW_IND_PAST_10_10', axis=1)\n",
    "    df = df.drop('WW_CURR_10', axis=1)\n",
    "    df = df.drop('WW_PAST_10', axis=1)\n",
    "    \n",
    "    # wind\n",
    "    df = df.drop('FX_10M_10', axis=1)\n",
    "    df = df.drop('FX_10M_MD_10', axis=1)\n",
    "    df = df.drop('FX_SENSOR_MD_10', axis=1)\n",
    "    return df\n",
    "\n",
    "features = drop_vars(features)\n",
    "features_1T = drop_vars(features_1T)\n",
    "features_15T = drop_vars(features_15T)"
   ]
  },
  {
   "cell_type": "markdown",
   "metadata": {},
   "source": [
    "Exporting my dataframes before doing anything else, the computation has taken long enough, no need to repeat it in case of system or programmer error."
   ]
  },
  {
   "cell_type": "code",
   "execution_count": 32,
   "metadata": {},
   "outputs": [],
   "source": [
    "features.to_csv('features.csv', sep = ',')\n",
    "features_15T.to_csv('features_resample-15T_interpolate-4.csv', sep = ',')\n",
    "features_1T.to_csv('features_resample-1T_interpolate-60.csv', sep = ',')"
   ]
  },
  {
   "cell_type": "markdown",
   "metadata": {},
   "source": [
    "I have my PV data in separate files called \"all_data_resample-1T_interpolate-60.csv\" and \"all_data_resample-15T_interpolate-4.csv\". I will now remove the location data in those dataframes (while keeping the time-stamps) and join them to the features dataframes."
   ]
  },
  {
   "cell_type": "code",
   "execution_count": 33,
   "metadata": {},
   "outputs": [],
   "source": [
    "features_15T = pd.read_csv('features_resample-15T_interpolate-4.csv',\n",
    "                       index_col = '# DTG',\n",
    "                       parse_dates = True)\n",
    "features_1T = pd.read_csv('features_resample-1T_interpolate-60.csv',\n",
    "                       index_col = '# DTG',\n",
    "                       parse_dates = True)\n",
    "pv_1T = pd.read_csv('all_data_resample-1T_interpolate-60.csv', \n",
    "                    index_col = 0,\n",
    "                    parse_dates = True)\n",
    "pv_15T = pd.read_csv('all_data_resample-15T_interpolate-4.csv', \n",
    "                    index_col = 0,\n",
    "                    parse_dates = True)"
   ]
  },
  {
   "cell_type": "markdown",
   "metadata": {},
   "source": [
    "One important step is to make sure you have an entry for every single time-step between your start time and date and your end time and date. A good way to do this is to use the pandas date_range function on an empty dataframe and join your PV dataset to that empty dataframe, that way you know for sure you have an entry (even its its a missing value) for every time-step. We will be slicing the dataframe thousands of different ways, so even a single missing row can shift all the data below it by 1 time-step. And in datasets this large, if there is one entry missing, there is usually many."
   ]
  },
  {
   "cell_type": "code",
   "execution_count": 34,
   "metadata": {},
   "outputs": [],
   "source": [
    "pv_1T = pv_1T.tz_localize(None)\n",
    "pv_15T = pv_15T.tz_localize(None)\n",
    "all_data_1T = pv_1T.join([features_1T])\n",
    "all_data_15T = pv_15T.join([features_15T])\n",
    "all_data_1T.to_csv('all_data_1T.csv', sep = ',')\n",
    "all_data_15T.to_csv('all_data_15T.csv', sep = ',')"
   ]
  },
  {
   "cell_type": "markdown",
   "metadata": {},
   "source": [
    "## Encoding\n",
    "Now we have all the required data resampled to two different temporal intervals and up to an hour's worth of consecutive missing values lineary interpolated in two separate csv files. The next step is encoding the data such that it is easy to interpret for a gradient descent algorithm."
   ]
  },
  {
   "cell_type": "code",
   "execution_count": 1,
   "metadata": {},
   "outputs": [],
   "source": [
    "import pandas as pd\n",
    "import numpy as np\n",
    "import matplotlib.pyplot as plt\n",
    "import seaborn as sns"
   ]
  },
  {
   "cell_type": "code",
   "execution_count": 2,
   "metadata": {},
   "outputs": [],
   "source": [
    "all_data = pd.read_csv('all_data_15T.csv',\n",
    "                      index_col = 0,\n",
    "                      parse_dates = True)"
   ]
  },
  {
   "cell_type": "markdown",
   "metadata": {},
   "source": [
    "We want to encode each element of the date-time as a separate feature making the information less dense. (In hind-sight, this method of encoding date-time was no better than not-including date-time information whatsoever... so take it with a grain of salt.\n",
    "\n",
    "The second function takes the sin and the cosin components of cyclical patterns, such as the direction from which the wind is coming (365 degrees) or the months of a year, days of a month, days of a week, hours of a day etc. (In hind-sight, just including the sin and cosine components of the day of the year would be much more information dense and is likely to work better than having multiple features describe the passage of time in concert).\n",
    "\n",
    "I make a dataframe that contains the date-time information \"dt_15T\" using the split_df function. Then I made a second dataframe \"encoded\" where i stored the sin and cosin components of all the compnents of the date-time. as well as the 365 degree direction features \"DD_10\", \"DDN_10\", \"DD_STD_10\" and \"DDX_10\" which refer to different components of the wind speed."
   ]
  },
  {
   "cell_type": "code",
   "execution_count": 3,
   "metadata": {},
   "outputs": [],
   "source": [
    "def split_dt(df):\n",
    "    dt = pd.DataFrame()\n",
    "    dt['year'] = df.index.year\n",
    "    dt['month'] = df.index.month\n",
    "    dt['day'] = df.index.day\n",
    "    dt['hour'] = df.index.hour\n",
    "    dt['minute'] = df.index.minute\n",
    "    return dt\n",
    "\n",
    "def radial_to_features(df, target_df, feature, steps):  \n",
    "    target_df[feature + '_sin'] = np.sin(df[feature]*(2.*np.pi/steps))\n",
    "    target_df[feature + '_cos'] = np.cos(df[feature]*(2.*np.pi/steps))\n",
    "    \n",
    "dt_15T = split_dt(all_data)\n",
    "\n",
    "encoded = pd.DataFrame()\n",
    "encoded = pd.concat([encoded, pd.get_dummies(dt_15T.year, prefix = 'year')], axis = 1)\n",
    "radial_to_features(dt_15T, encoded, 'month', 12)\n",
    "radial_to_features(dt_15T, encoded, 'day', 31)\n",
    "radial_to_features(dt_15T, encoded, 'hour', 24)\n",
    "radial_to_features(dt_15T, encoded, 'minute', 60)\n",
    "radials = pd.DataFrame()\n",
    "radial_to_features(all_data, radials, 'DD_10', 365)\n",
    "radial_to_features(all_data, radials, 'DDN_10', 365)\n",
    "radial_to_features(all_data, radials, 'DD_STD_10', 365)\n",
    "radial_to_features(all_data, radials, 'DDX_10', 365)\n"
   ]
  },
  {
   "cell_type": "markdown",
   "metadata": {},
   "source": [
    "\"encoded\" and \"radials\" have no index, but should be indexed identical to the \"all_data\" dataframe. The radial features were originally located in between the \"FF_10M\" and \"FF_SENSOR_10\" features in the \"all_data\" dataframe, I wanted to put them back, but encoded in exactly the same spot to avoid confusion."
   ]
  },
  {
   "cell_type": "code",
   "execution_count": 4,
   "metadata": {},
   "outputs": [],
   "source": [
    "sensors = all_data[['151', '181', '192', '226', '262', '288', '317', '373', '380', '532']]\n",
    "features1 = all_data[['DR_REGENM_10', 'RI_REGENM_10', 'U_BOOL_10', 'T_DRYB_10', 'TN_10CM_PAST_6H_10', 'T_DEWP_10', 'TN_DRYB_10', 'T_WETB_10', \n",
    "                                    'TX_DRYB_10', 'U_10', 'P_NAP_MSL_10', 'VV_10', 'AH_10', 'MOR_10', 'FF_10M_10']]\n",
    "features2 = all_data[['FF_SENSOR_10', 'FF_10M_STD_10', 'FX_SENSOR_10', 'Q_GLOB_10', 'QN_GLOB_10', 'QX_GLOB_10', 'SQ_10']]\n",
    "encoded.index = all_data.index\n",
    "radials.index = all_data.index\n",
    "features = sensors.join([encoded, features1, radials, features2])"
   ]
  },
  {
   "cell_type": "markdown",
   "metadata": {},
   "source": [
    "Now our data is ready for some neural network interpretation (well.. almost)"
   ]
  },
  {
   "cell_type": "code",
   "execution_count": 5,
   "metadata": {},
   "outputs": [],
   "source": [
    "features.to_csv('ML_input_1T.csv')"
   ]
  },
  {
   "cell_type": "markdown",
   "metadata": {},
   "source": [
    "Checking if my encoding has worked correctly, it has!"
   ]
  },
  {
   "cell_type": "code",
   "execution_count": 245,
   "metadata": {},
   "outputs": [
    {
     "data": {
      "text/plain": [
       "Text(0.5, 0, 'sin')"
      ]
     },
     "execution_count": 245,
     "metadata": {},
     "output_type": "execute_result"
    },
    {
     "data": {
      "image/png": "[encoded data removed]",
      "text/plain": [
       "<Figure size 720x720 with 4 Axes>"
      ]
     },
     "metadata": {
      "needs_background": "light"
     },
     "output_type": "display_data"
    }
   ],
   "source": [
    "fig, axs = plt.subplots(2, 2,\n",
    "                        sharey = True, sharex = True, \n",
    "                        constrained_layout = True,\n",
    "                        figsize = (10,10))\n",
    "\n",
    "axs[0,0].plot(encoded['month_sin'], encoded['month_cos'])\n",
    "axs[0,0].set_title('Month encoding')\n",
    "axs[0,0].set_ylabel('cos')\n",
    "\n",
    "axs[0,1].plot(encoded['day_sin'], encoded['day_cos'])\n",
    "axs[0,1].set_title('Day encoding')\n",
    "\n",
    "axs[1,0].plot(encoded['hour_sin'][:97], encoded['hour_cos'][:97])\n",
    "axs[1,0].set_title('Hour encoding')\n",
    "axs[1,0].set_xlabel('sin')\n",
    "axs[1,0].set_ylabel('cos')\n",
    "\n",
    "axs[1,1].plot(encoded['minute_sin'][:97], encoded['minute_cos'][:97])\n",
    "axs[1,1].set_title('Quarter hour encoding')\n",
    "axs[1,1].set_xlabel('sin')"
   ]
  },
  {
   "cell_type": "code",
   "execution_count": 248,
   "metadata": {},
   "outputs": [
    {
     "data": {
      "text/plain": [
       "Text(0.5, 0, 'sin')"
      ]
     },
     "execution_count": 248,
     "metadata": {},
     "output_type": "execute_result"
    },
    {
     "data": {
      "image/png": "[encoded data removed]",
      "text/plain": [
       "<Figure size 720x720 with 4 Axes>"
      ]
     },
     "metadata": {
      "needs_background": "light"
     },
     "output_type": "display_data"
    }
   ],
   "source": [
    "fig, axs = plt.subplots(2, 2,\n",
    "                        sharey = True, sharex = True, \n",
    "                        constrained_layout = True,\n",
    "                        figsize = (10,10))\n",
    "\n",
    "axs[0,0].plot(radials['DD_10_sin'], radials['DD_10_cos'], ',')\n",
    "axs[0,0].set_title('DD_10 encoding')\n",
    "axs[0,0].set_ylabel('cos')\n",
    "\n",
    "axs[0,1].plot(radials['DDN_10_sin'], radials['DDN_10_cos'], ',')\n",
    "axs[0,1].set_title('DDN_10 encoding')\n",
    "\n",
    "axs[1,0].plot(radials['DD_STD_10_sin'], radials['DD_STD_10_cos'], ',')\n",
    "axs[1,0].set_title('DD_STD_10 encoding')\n",
    "axs[1,0].set_xlabel('sin')\n",
    "axs[1,0].set_ylabel('cos')\n",
    "\n",
    "axs[1,1].plot(radials['DDX_10_sin'], radials['DDX_10_cos'], ',')\n",
    "axs[1,1].set_title('Quarter DD_STD_10 encoding')\n",
    "axs[1,1].set_xlabel('sin')"
   ]
  },
  {
   "cell_type": "markdown",
   "metadata": {},
   "source": [
    "Its difficult to stay sane doing this work, so here are some sanity checks!"
   ]
  },
  {
   "cell_type": "code",
   "execution_count": null,
   "metadata": {},
   "outputs": [],
   "source": [
    "def print_stats(df):\n",
    "    print('df.info output:\\n\\n')\n",
    "    print(df.info())\n",
    "    print('df.describe output:\\n\\n')\n",
    "    print(df.describe())\n",
    "    print('df.isna.sum output:\\n\\n')\n",
    "    print(df.isna().sum())\n",
    "print_stats(features)\n",
    "print_stats(all_data[['151', '181', '192', '226', '262', \n",
    "                     '288', '317', '373', '380', '532'\n",
    "                    ]])"
   ]
  },
  {
   "cell_type": "markdown",
   "metadata": {},
   "source": [
    "## DWT as features\n",
    "When implementing DWT as features an additional 1T and 15T (1 minute interval and 15 minute interval) dataset is required that contains the DWT components of the selected features. This, as with the previous two steps, is done in a separate file to keep it organized, easier to error-check and faster to execute. The overall goal is to select features for which DWT decomposition could be relevant. To decompose them four times, once into 1 components, once into 2 components, once into 3 and once into 4 components. To then up-sample each column to the same length as the input, and finally to join all of the generated decompositions to the undecomposed dataset previously constructed. Now we have DWT decompositions as features in the input dataset. This is saved in a separate file mostly to speed up the training of models that do not require DWT or utilize the separate model per level of DWT approach. \n",
    "\n",
    "The distinct advantages of this summized: 1) greatly increased training speed, 2) better accuracy of the model. The model can be more accurate because it now has access to the source information as well as the DWT components when making a prediction and because it can relate changes in one level of DWT to changes in another. "
   ]
  },
  {
   "cell_type": "code",
   "execution_count": 49,
   "metadata": {},
   "outputs": [],
   "source": [
    "import pandas as pd\n",
    "import numpy as np\n",
    "import pywt\n",
    "import matplotlib.pyplot as plt"
   ]
  },
  {
   "cell_type": "markdown",
   "metadata": {},
   "source": [
    "Selecting the features for DWT decomposition and loading the dataset."
   ]
  },
  {
   "cell_type": "code",
   "execution_count": 74,
   "metadata": {},
   "outputs": [],
   "source": [
    "df = pd.read_csv('ML_input_1T.csv', index_col = 0, parse_dates = True)\n",
    "df = df[['151', 'FF_10M_10', 'FF_SENSOR_10', 'FF_10M_STD_10', 'FX_SENSOR_10', 'Q_GLOB_10',\n",
    "       'QN_GLOB_10', 'QX_GLOB_10', 'SQ_10']]"
   ]
  },
  {
   "cell_type": "markdown",
   "metadata": {},
   "source": [
    "Decomposing the features four times each one with one more level of decomposition applied."
   ]
  },
  {
   "cell_type": "code",
   "execution_count": 76,
   "metadata": {},
   "outputs": [],
   "source": [
    "coeff_one = pywt.wavedec(df, 'haar', level = 1, axis = 0)\n",
    "coeff_two = pywt.wavedec(df, 'haar', level = 2, axis = 0)\n",
    "coeff_three = pywt.wavedec(df, 'haar', level = 3, axis = 0)\n",
    "coeff_four = pywt.wavedec(df, 'haar', level = 4, axis = 0)"
   ]
  },
  {
   "cell_type": "markdown",
   "metadata": {},
   "source": [
    "Here we see the problem that previous researchers solved by implementing multiple paralel models."
   ]
  },
  {
   "cell_type": "code",
   "execution_count": 77,
   "metadata": {},
   "outputs": [
    {
     "name": "stdout",
     "output_type": "stream",
     "text": [
      "98640 98640 197280 394560 789120 1578240\n"
     ]
    }
   ],
   "source": [
    "print(len(coeff_four[0]), len(coeff_four[1]), len(coeff_four[2]), len(coeff_four[3]), len(coeff_four[4]), len(df),  )"
   ]
  },
  {
   "cell_type": "markdown",
   "metadata": {},
   "source": [
    "In order to insert the correct number of \"missing value\" entries between each row in each 1D array that contains a level of decomposition in \"coeff_one\" and \"coeff_two\" and \"coeff_three\" and \"coeff_four\" and lining up exactly with the index in the input the pandas date_range and resample functions were abused as this allows the operation to be executed in 3 lines of code). The inserted missing values are linearly interpolated.\n",
    "\n",
    "This results in dataframes of unequal length, as missing values are inserted after the last day of the dataset. And the number of missing values inserted varies per level of DWT. Therefore \"limit\" was used to discard the last day of the dataset and whatever extra missing values were appended.\n",
    "\n",
    "The second function repeats the first function for each of the levels of DWT also identifying the \"factor\" variable based on length of the coefficient with regard to the  input dataframe. The \"factor\" variable determines how many missing values need to be inserted after each row in order to up-scale to the input temporal resolution."
   ]
  },
  {
   "cell_type": "code",
   "execution_count": 78,
   "metadata": {},
   "outputs": [],
   "source": [
    "limit = 1576800\n",
    "\n",
    "def upsample_dwt_interpolate(arr, factor):\n",
    "    frequency = str(factor) + 'ms'\n",
    "    index = pd.date_range('1/1/2000', periods=len(arr), freq=frequency)\n",
    "    data = pd.DataFrame(arr, index = index)\n",
    "    data = data.resample('ms').asfreq()\n",
    "    data = data.interpolate('linear')\n",
    "    data = data.values\n",
    "    data = data[:limit,:]\n",
    "    return data\n",
    "\n",
    "def upsample_dwt_levels(df, coeff):\n",
    "    data = []\n",
    "    for i in range(len(coeff)):\n",
    "        factor = len(df) / len(coeff[i])\n",
    "        upsample = upsample_dwt_interpolate(coeff[i], factor)\n",
    "        data.append(upsample)\n",
    "    return data\n",
    "\n",
    "one = upsample_dwt_levels(df, coeff_one)\n",
    "two = upsample_dwt_levels(df, coeff_two)\n",
    "three = upsample_dwt_levels(df, coeff_three)\n",
    "four = upsample_dwt_levels(df, coeff_four)"
   ]
  },
  {
   "cell_type": "markdown",
   "metadata": {},
   "source": [
    "Converting numpy arrays to pandas dataframes and ensuring each column is named with a name that can be used to easily select all columns starting with the same string."
   ]
  },
  {
   "cell_type": "code",
   "execution_count": 86,
   "metadata": {},
   "outputs": [],
   "source": [
    "one_0 = pd.DataFrame(one[0], columns = df.columns).add_prefix('dwt1_0_')\n",
    "one_1 = pd.DataFrame(one[1], columns = df.columns).add_prefix('dwt1_1_')\n",
    "first = [one_0, one_1]\n",
    "first = pd.concat(first, axis = 1)\n",
    "\n",
    "two_0 = pd.DataFrame(two[0], columns = df.columns).add_prefix('dwt2_0_')\n",
    "two_1 = pd.DataFrame(two[1], columns = df.columns).add_prefix('dwt2_1_')\n",
    "two_2 = pd.DataFrame(two[2], columns = df.columns).add_prefix('dwt2_2_')\n",
    "second = [two_0, two_1, two_2]\n",
    "second = pd.concat(second, axis = 1)\n",
    "\n",
    "three_0 = pd.DataFrame(three[0], columns = df.columns).add_prefix('dwt3_0_')\n",
    "three_1 = pd.DataFrame(three[1], columns = df.columns).add_prefix('dwt3_1_')\n",
    "three_2 = pd.DataFrame(three[2], columns = df.columns).add_prefix('dwt3_2_')\n",
    "three_3 = pd.DataFrame(three[3], columns = df.columns).add_prefix('dwt3_3_')\n",
    "third = [three_0, three_1, three_2, three_3]\n",
    "third = pd.concat(third, axis = 1)\n",
    "\n",
    "four_0 = pd.DataFrame(four[0], columns = df.columns).add_prefix('dwt4_0_')\n",
    "four_1 = pd.DataFrame(four[1], columns = df.columns).add_prefix('dwt4_1_')\n",
    "four_2 = pd.DataFrame(four[2], columns = df.columns).add_prefix('dwt4_2_')\n",
    "four_3 = pd.DataFrame(four[3], columns = df.columns).add_prefix('dwt4_3_')\n",
    "four_4 = pd.DataFrame(four[4], columns = df.columns).add_prefix('dwt4_4_')\n",
    "fourth = [four_0, four_1, four_2, four_3, four_4]\n",
    "fourth = pd.concat(fourth, axis = 1)"
   ]
  },
  {
   "cell_type": "markdown",
   "metadata": {},
   "source": [
    "Concatenating the generated features to the original and making sure the limit is respected so that every value ends up associated to the correct index entry."
   ]
  },
  {
   "cell_type": "code",
   "execution_count": null,
   "metadata": {},
   "outputs": [],
   "source": [
    "original = pd.read_csv('ML_input_1T.csv', index_col = 0, parse_dates = True)\n",
    "original_cols = original.columns\n",
    "original = original[:limit].values\n",
    "original = pd.DataFrame(original, columns = original_cols)\n",
    "dwt = pd.concat([first, second, third, fourth], axis = 1)\n",
    "dwt = pd.concat([original, dwt], axis = 1)\n",
    "dwt.index = df[:limit].index"
   ]
  },
  {
   "cell_type": "markdown",
   "metadata": {},
   "source": [
    "exporting in csv format to be used for modelling."
   ]
  },
  {
   "cell_type": "code",
   "execution_count": 88,
   "metadata": {},
   "outputs": [],
   "source": [
    "dwt.to_csv('ML_input_1T_dwt.csv', sep=',')"
   ]
  },
  {
   "cell_type": "markdown",
   "metadata": {},
   "source": [
    "## Analyse data"
   ]
  },
  {
   "cell_type": "markdown",
   "metadata": {},
   "source": [
    "Generate visualizations based on the input. The output can be seen in my Msc thesis document, this was done with too little time to spare and outside of the jupyter notebook environment, therefore the console output is not available. All of it is copied over from forums and adjusted to my needs, very little original code. Included for completion's sake."
   ]
  },
  {
   "cell_type": "code",
   "execution_count": null,
   "metadata": {},
   "outputs": [],
   "source": [
    "from pathlib import Path\n",
    "import numpy as np\n",
    "import pandas as pd\n",
    "pd.set_option('display.float_format', lambda x: '%.4f' % x)\n",
    "\n",
    "import warnings\n",
    "warnings.filterwarnings('ignore')\n",
    "\n",
    "import seaborn as sns\n",
    "sns.set_context(\"paper\", font_scale=1.3)\n",
    "sns.set_style('white')\n",
    "import matplotlib.pyplot as plt\n",
    "import matplotlib.ticker as tkr\n",
    "from scipy import stats\n",
    "\n",
    "#%% data import\n",
    "\n",
    "\n",
    "\n",
    "csv_path = '../Datasets/all_data/all_data.csv'\n",
    "df = pd.read_csv(csv_path,\n",
    "                 index_col='DateTime',\n",
    "                 parse_dates=True)\n",
    "\n",
    "index = pd.date_range(start = '2015-01-01 00:00:10+00:00', end = '2017-12-31 23:59:10+00:00', freq = '10S')\n",
    "df1 = pd.DataFrame(index = index)\n",
    "df1 = df1.join(df, how='left')\n",
    "\n",
    "# generating features from the date-time-index\n",
    "df1['date_time'] = df1.index\n",
    "\n",
    "df1['year'] = df1['date_time'].apply(lambda x: x.year)\n",
    "df1['quarter'] = df1['date_time'].apply(lambda x: x.quarter)\n",
    "df1['month'] = df1['date_time'].apply(lambda x: x.month)\n",
    "df1['day_of_month'] = df1['date_time'].apply(lambda x: x.day)\n",
    "df1['hour'] = df1.index.hour\n",
    "df1['minute']=df1.index.minute\n",
    "\n",
    "df1 = df1.drop('date_time', axis=1)\n",
    "\n",
    "\n",
    "#%% Data evaluation\n",
    "\n",
    "df1.info()\n",
    "df1.describe()\n",
    "\n",
    "stat, p = stats.normaltest(df1['151'])\n",
    "print('Statistics=%.3f, p=%.3f' % (stat, p))\n",
    "alpha = 0.05\n",
    "if p > alpha:\n",
    "   print('Data looks Gaussian (fail to reject H0)')\n",
    "else:\n",
    "   print('Data does not look Gaussian (reject H0)')\n",
    "   \n",
    "plt.figure()\n",
    "sns.distplot(df1['151'], hist=False, label = 'PV system power output data').set_xlim(left=0)\n",
    "plt.xlabel('power output')\n",
    "plt.ylabel('percentage of measurements')\n",
    "plt.legend()\n",
    "plt.savefig('distplot.eps')\n",
    "\n",
    "print('Kurtosis of normal distribution: {}'.format(stats.kurtosis\n",
    "                                                      (df1['151'])))\n",
    "print('Skewness of normal distribution: {}'.format(stats.skew\n",
    "                                                      (df1['151'])))\n",
    "\n",
    "plt.figure(figsize=(14,5), dpi=200)\n",
    "plt.subplot(1,3,1)\n",
    "plt.subplots_adjust(wspace=0.2)\n",
    "sns.boxplot(x='month', y='151', data=df1)\n",
    "plt.xlabel('month')\n",
    "plt.title('Box plot of monthly PV power')\n",
    "sns.despine(left=True)\n",
    "plt.tight_layout()\n",
    "\n",
    "plt.subplot(1,3,2)\n",
    "sns.boxplot(x=\"hour\", y='151', data=df1)\n",
    "plt.xlabel('hour')\n",
    "plt.title('Box plot of hourly PV power')\n",
    "sns.despine(left=True)\n",
    "plt.tight_layout();\n",
    "\n",
    "plt.subplot(1,3,3)\n",
    "sns.boxplot(x=\"quarter\", y='151', data=df1)\n",
    "plt.xlabel('quarter')\n",
    "plt.title('Box plot of quarterly PV power')\n",
    "sns.despine(left=True)\n",
    "plt.tight_layout();\n",
    "\n",
    "plt.savefig('quarterly__monthly_daily_power.png')\n",
    "\n",
    "\n",
    "\n",
    "data = df1.copy()\n",
    "data = data['151']\n",
    "data = data.to_frame()\n",
    "onemin = data['151'].resample('1T').mean().interpolate(method='linear', limit = 60)\n",
    "onemin = onemin.to_frame()\n",
    "onemin.columns = ['Frequency: 1 min']\n",
    "fifteenmin = data['151'].resample('15T').mean().interpolate(method='linear', limit = 4)\n",
    "fifteenmin = fifteenmin.to_frame()\n",
    "fifteenmin.columns = ['Frequency: 15 min']\n",
    "data.columns = ['Measurements']\n",
    "\n",
    "fig, ax = plt.subplots(1,3, dpi = 300)\n",
    "sns.heatmap(data.isnull(), cbar=False, ax = ax[0])\n",
    "sns.heatmap(onemin.isnull(), cbar=False, ax = ax[1])\n",
    "sns.heatmap(fifteenmin.isnull(), cbar=False, ax = ax[2])\n",
    "#ax[0].get_yaxis().set_visible(False)\n",
    "ax[1].get_yaxis().set_visible(False)\n",
    "ax[2].get_yaxis().set_visible(False)\n",
    "plt.sca(ax[0])\n",
    "plt.yticks(range(0,9469435,3156478), ['2015', '2016', '2017'])\n",
    "\n",
    "plt.savefig('missing_values_heatmap.png')\n",
    "\n",
    "#%%\n",
    "\n",
    "csv_path = '../ML_input_15T.csv'\n",
    "df = pd.read_csv(csv_path,\n",
    "                 index_col=0,\n",
    "                 parse_dates=True,\n",
    "                 infer_datetime_format = True)\n",
    "# df = df.between_time(sun_up, sun_down)\n",
    "\n",
    "TIME_STEPS_PER_DAY = len(df.loc['1-1-2016'])\n",
    "\n",
    "times = df.index.time\n",
    "times = pd.DataFrame(times)\n",
    "times = times[0].unique()\n",
    "\n",
    "min_mean_max_power_at_time = pd.DataFrame()\n",
    "\n",
    "for i in range(len(times)):\n",
    "    time, min, mean, max = times[i], df.at_time(times[i])['151'].min(), df.at_time(times[i])['151'].mean(), df.at_time(times[i])['151'].max()\n",
    "    min_mean_max_power_at_time = min_mean_max_power_at_time.append([[time, min, mean, max]])\n",
    "min_mean_max_power_at_time.columns = ['time', 'min', 'mean', 'max']\n",
    "min_mean_max_power_at_time = min_mean_max_power_at_time.set_index('time')\n",
    "min_mean_max_power_at_time = round(min_mean_max_power_at_time, 2)\n",
    "min_mean_max_power_at_time.plot(figsize = (8,4))\n",
    "plt.ylabel('measured PV power [W]')\n",
    "\n",
    "plt.axvline(x = '04:00:00')\n",
    "plt.axvline(x = '19:45:00')\n",
    "plt.savefig('min_mean_max_pv_power.eps')"
   ]
  },
  {
   "cell_type": "markdown",
   "metadata": {},
   "source": [
    "# Modelling\n",
    "Because my analysis was executed on a compute cluster, I needed separate .py files for each job on the cluster. I decided to execute 18 jobs on the cluster, one for each combination of DWT, model and forecasting horizon. I've done my best to consolidate the code from the separate files (see github) into a single coherent story, however parts may be missing. There are only very small differences between files when the same model and DWT implementation is used (and the temporal horizon is varied), therefore only code from the 30 minute ahead jobs is used. For a complete overview of all 18 .py files (jobs) visit my github.\n",
    "\n",
    "I have published the best performing models on my github, all others have been discarded, as has the output of the compute clusters in order to save disk-space."
   ]
  },
  {
   "cell_type": "code",
   "execution_count": null,
   "metadata": {},
   "outputs": [],
   "source": [
    "# Libraries imported in each job:\n",
    "from sys import platform\n",
    "import pandas as pd\n",
    "import numpy as np\n",
    "import matplotlib.pyplot as plt\n",
    "import pywt\n",
    "from time import time as time\n",
    "from pathlib import Path\n",
    "import pickle\n",
    "\n",
    "from sklearn.preprocessing import MinMaxScaler\n",
    "from sklearn.metrics import mean_squared_error\n",
    "from sklearn.metrics import mean_absolute_error\n",
    "from sklearn.model_selection import ParameterGrid\n",
    "\n",
    "import tensorflow as tf\n",
    "import tensorflow.keras as keras\n",
    "from tensorflow.keras.models import Sequential\n",
    "from tensorflow.keras.models import load_model\n",
    "from tensorflow.keras.layers import *\n",
    "\n",
    "# library obtained from: https://github.com/nii3lsh?tab=repositories needs to be in same directory as this script\n",
    "import ramp_score as rs"
   ]
  },
  {
   "cell_type": "markdown",
   "metadata": {},
   "source": [
    "## Import\n",
    "Lets import the dataset we just created, lets discard values between 19:45 at night and 4 in the morning, almost all of them are 0 making our dataset imbalanced and unnecessarily sparse. Then some code to make sure we find out input dataset regardless of the computer this is running on. I don't know why, but it worked on the cluster only if i put infer_datetime_format to True.\n",
    "\n",
    "We need \"TIME_STEPS_PER_DAY\" & \"TRAIN_TEST_SPLIT\" much later on in the modelling process, but since we haven't modified our dataframe yet, lets define them now. With large datasets like these, performing operations by overwriting the variable can help conserve RAM while running the program."
   ]
  },
  {
   "cell_type": "code",
   "execution_count": null,
   "metadata": {},
   "outputs": [],
   "source": [
    "results_path = 'dwt_features_conv_lstm_30/params_1/'\n",
    "Path(results_path).mkdir(parents=True, exist_ok=True)\n",
    "\n",
    "sun_up, sun_down = '04:00:00', '19:45:00'\n",
    "\n",
    "# makes life easier when switching between personal and cluster environment\n",
    "if platform == \"win32\":\n",
    "    csv_path = '../../../pv_data/ML_input_1T_dwt.csv'\n",
    "else:\n",
    "    csv_path = '../pv_data/ML_input_1T_dwt.csv'\n",
    "    \n",
    "df = pd.read_csv(csv_path,\n",
    "                 index_col=0,\n",
    "                 parse_dates=True,\n",
    "                 infer_datetime_format = True)\n",
    "df = df.between_time(sun_up, sun_down)\n",
    "\n",
    "TIME_STEPS_PER_DAY = len(df.loc['1-1-2016'])\n",
    "TRAIN_TEST_SPLIT = len(df.loc['1-1-2015':'31-12-2016'])"
   ]
  },
  {
   "cell_type": "markdown",
   "metadata": {},
   "source": [
    "## Normalization of the input data\n",
    "Gradient descent works faster/ potentially more accurately when values fall between a range of 0 to 1. Therefore lets normalize the input data, it would be nice to retain the ability to scale a model's output back up to the original size. To do that we will use a separate scaling function for the target (feature/ dependent variable (the feature we wish to forecast)) as we do for all the other features. This way our scaling function for the target feature can be used on a 2D array with a single column (output of the model). After that we rebuild our dataframe."
   ]
  },
  {
   "cell_type": "code",
   "execution_count": null,
   "metadata": {},
   "outputs": [],
   "source": [
    "cols = df.columns\n",
    "index = df.index\n",
    "\n",
    "df = df.values\n",
    "\n",
    "scaler_target = MinMaxScaler()\n",
    "target = scaler_target.fit_transform(df[:,:1])\n",
    "\n",
    "scaler_features = MinMaxScaler()\n",
    "features = scaler_features.fit_transform(df[:,1:])\n",
    "\n",
    "df = np.concatenate((target, features), axis=1)\n",
    "df = pd.DataFrame(df, index = index, columns = cols)"
   ]
  },
  {
   "cell_type": "markdown",
   "metadata": {},
   "source": [
    "With the DWT-separate-parallel models implementation the ability to scale the input data after using DWT arose, and therefore the following code was used instead. A function was used in order to have the ability to repeat this step thousands of times, once for each hyper-parameter combination."
   ]
  },
  {
   "cell_type": "code",
   "execution_count": null,
   "metadata": {},
   "outputs": [],
   "source": [
    "columns = df.columns\n",
    "index = df.index\n",
    "scale_all = MinMaxScaler()\n",
    "df = scale_all.fit_transform(df)\n",
    "df = pd.DataFrame(df, index = index, columns = columns)\n",
    "\n",
    "def scale_df(df, cols):\n",
    "    \n",
    "    scaler_target = MinMaxScaler()\n",
    "    target = scaler_target.fit_transform(df[:,:1])\n",
    "    if len(cols) > 1:\n",
    "        scaler_features = MinMaxScaler()\n",
    "        features = scaler_features.fit_transform(df[:,1:])\n",
    "        df = np.concatenate((target, features), axis=1)\n",
    "        df = pd.DataFrame(df, columns = cols)\n",
    "    else:\n",
    "        df = pd.DataFrame(target, columns = cols)\n",
    "    return scaler_target, df"
   ]
  },
  {
   "cell_type": "markdown",
   "metadata": {},
   "source": [
    "## Functions\n",
    "multivariate_data is a function that slices our 2D input data into a 3D array \"data\" of shape (samples, timesteps, features) and a 2D array \"labels\" of shape (samples, timesteps). Where the 3D array is the model's input and the 2D array is the expected output. The 3D \"data\" component of each sample contains a variable amount of timesteps set by \"history_size\", lets say 3 days worth of timesteps. For each timestep all the corresponding feature values are included. This cuts our input data in a number of samples close to the number of rows in the input dataset. This operation requires a lot of RAM as it has the capacity to be up to 10^4 larger than the initial dataset in memory use (Gigabytes).\n",
    "\n",
    "The second function is designed to remove any samples that contain even a single missing value. As many samples use the same datapoints, this shows a great weakness of AI, not only is a lot of data required, the data needs to be very clean and complete to be useful."
   ]
  },
  {
   "cell_type": "code",
   "execution_count": null,
   "metadata": {},
   "outputs": [],
   "source": [
    "def multivariate_data(dataset, target, start_index, end_index, history_size,\n",
    "                      target_size, step):\n",
    "  data = []\n",
    "  labels = []\n",
    "\n",
    "  start_index = start_index + history_size\n",
    "  if end_index is None:\n",
    "    end_index = len(dataset) - target_size\n",
    "\n",
    "  for i in range(start_index, end_index, step):\n",
    "    indices = range(i-history_size, i)\n",
    "    data.append(dataset[indices])\n",
    "\n",
    "  return np.array(data), np.array(labels)\n",
    "\n",
    "def remove_nan(X,Y):\n",
    "    x = []\n",
    "    y = []\n",
    "    for sample in range(X.shape[0]):\n",
    "        if np.isnan(X[sample,:,:]).any() | np.isnan(Y[sample,:]).any():\n",
    "            None\n",
    "        else:\n",
    "            x.append(X[sample,:,:])\n",
    "            y.append(Y[sample,:])\n",
    "    x = np.array(x)\n",
    "    y = np.array(y)\n",
    "    return x, y"
   ]
  },
  {
   "cell_type": "markdown",
   "metadata": {},
   "source": [
    "### Functions for DWT-separate-parallel-models implementation:\n",
    "Variables written in CAPITAL LETTERS are considered hyper parameters, and have been passed through wrapping functions. The dwt function applies dwt using the 'haar' wavelet, this was intended as a hyper parameter, but shortcomings in pywt made this infeasible and using the level specified in the hyper-parameter grid. Then the scale_df function is used in a loop to scale all the levels of DWT to values between 0 and 1. This is done to enlarge the values in higher levels, as these can become exceedingly small when applied on scaled data.\n",
    "\n",
    "(You might ask: \"Why the initial scaling then?\". To be honest, i forgot why, i know it had a good reason figured out through trial and error.)\n",
    "\n",
    "The second function produces the value of TIME_STEPS_PER_DAY for each level of DWT. As each level of DWT has a lower number of time-steps (as discussed prior when building the database). The model's output is dependent upon this variable, therefore I built a function to produce the correct corresponding value for TIME_STEPS_PER_DAY for each level of DWT (in this implementation, a separate model is trained for each level of DWT, therefore a value for TIME_STEPS_PER_DAY is required)."
   ]
  },
  {
   "cell_type": "code",
   "execution_count": null,
   "metadata": {},
   "outputs": [],
   "source": [
    "def dwt(df, WAVELET, LEVEL):\n",
    "    cols = df.columns\n",
    "    coeff = pywt.wavedec(df, WAVELET, level = LEVEL, axis = 0)\n",
    "    dwt = []\n",
    "    scalers = []\n",
    "    for I in range(LEVEL + 1):\n",
    "        scaler_0, coeff_0 = scale_df(coeff[I], cols)\n",
    "        dwt.append(coeff_0)\n",
    "        scalers.append(scaler_0)\n",
    "    return scalers, dwt\n",
    "\n",
    "def ts_per_day(coeff, TIME_STEPS_PER_DAY):\n",
    "    ts = []\n",
    "    ts.append(int(TIME_STEPS_PER_DAY / 2**(len(coeff)-1)))\n",
    "    for i in range(1, len(coeff)):\n",
    "        ts.append(int(TIME_STEPS_PER_DAY / 2**((len(coeff))-i)))\n",
    "    return ts"
   ]
  },
  {
   "cell_type": "markdown",
   "metadata": {},
   "source": [
    "## Ramp score\n",
    "An interesting academic proposal was made by Vallance et al to utilize the Ramp score as an error metric along side the MSE and the MAE and many others. This was attempted in this research as it lends itself to testing new error metrics very well since many different models are trained and evaluated using error metrics. The conclusion of my research stated that the MSE and the Ramp score were highly correlated significantly and additionally the three different chosen values for the size of the sliding door/ window used to compute the ramp-score (see thesis) yielded basically the same results on the day-ahead no DWT implementations. Based on these results the choice was made to conserve limited resources and only compute the mean ramp score for a given forecast  using 1 value for the sliding door/ window size."
   ]
  },
  {
   "cell_type": "code",
   "execution_count": 4,
   "metadata": {},
   "outputs": [],
   "source": [
    "def mean_ramp_error(y_true, y_pred):\n",
    "    ramp_results_3 = []\n",
    "    for i in range(y_true.shape[0]):\n",
    "        ramp_score_3 = rs.get_ramp_score(y_true[i,:], y_pred[i,:], avg_mins = 3, plot=False)\n",
    "        ramp_results_3.append(ramp_score_3)\n",
    "    return np.array(ramp_results_3).mean()"
   ]
  },
  {
   "cell_type": "markdown",
   "metadata": {},
   "source": [
    "# The Model\n",
    "The creation of a neural network model is put inside a function because it needs to be done for every combination of hyper-parameters in the hyper-parameter grid. The syntax reads as follows:\n",
    "\n",
    "We define a sequential model, we add to that an input layer and specify what size of input matrix to expect, this is defined by the shape of our 3D \"data\" array, that is henceforth known as \"x_train\" or \"x_test\". \n",
    "\n",
    "sidebar: \"x_test\" is used after the model has been trained, in order to use it to forecast using input samples that the trained model has not seen before. This is to combat \"overfitting\" where the model learns the input dataset exactly, instead of only the patterns with predictive power.\n",
    "\n",
    "After that layers are added to the model, the exact configuration of which can best be looked up in the keras documentation (keras.io). Every model.add method adds a layer that utilizes the output of the previous layer. Through the use of if statements and hyper-parameters (in CAPITAL LETTERS) the shape of the model is made subject to hyper-parameter values. Furthermore the neuron values in each layer are dependent upon many neurons in the preceding layer as explained in my thesis and my thesis references. But they also depend on some initial value and are subject to a bias. This is initialized and implemented in accordance with reference material cited in my master thesis in the Literature-state of the art & Method sections.\n",
    "\n",
    "The final layer is a Dense layer, where each neuron is dependent upon the output of every neuron in the preceding layer. This is also known as the \"interpretation\" layer, where the output of more specialized layers such as the LSTM layer is interpreted. The values of the neurons in this final Dense layer is the output of the model, therefore it must have exactly \"y_train.shape[1]\" neurons. The \"labels\" output of our previous multivariate_data function will henceforth be known as \"y_train\" or \"y_test\". The shape of \"y_train\" is (samples, timesteps), the output of the model needs to be a value for each time-step in the forecasting horizon (30 time-steps for 30 minutes ahead), therefore the Dense layer at the end must have that many neurons.\n",
    "\n",
    "The \"OPEN_END\" hyper parameter was not used in the end, as this turned out to be based on wrong assumptions, therefore only the value \"False\" was used.\n",
    "\n",
    "The only difference between this code and the code for CNN and LSTM models is the removal of the LSTM and CNN + pooling layers as well as the dropout layers directly following those respectively."
   ]
  },
  {
   "cell_type": "code",
   "execution_count": null,
   "metadata": {},
   "outputs": [],
   "source": [
    "def make_model(x_train, y_train, \n",
    "               FILTERS1, KERNEL_SIZE1, PADDING1, DILATION_RATE1, \n",
    "               CONV_ACTIVATION, CONV2, POOL_SIZE1, CONV_POOL2, \n",
    "               OPEN_END, DEPTH, LSTM1, LSTM_ACTIVATION,\n",
    "               DENSE_UNITS, DROPOUT, ACTIVATION2, \n",
    "               OPTIMIZER):\n",
    "    initializer = keras.initializers.TruncatedNormal(mean=0., stddev=0.05)\n",
    "    bias = keras.initializers.Constant(0.1)        \n",
    "   \n",
    "    model = Sequential()\n",
    "    model.add(Input(shape = (x_train.shape[1], x_train.shape[2])))\n",
    "    \n",
    "    model.add(Conv1D(filters            = FILTERS1, \n",
    "                     kernel_size        = KERNEL_SIZE1, \n",
    "                     padding            = PADDING1,\n",
    "                     dilation_rate      = DILATION_RATE1,\n",
    "                     activation         = CONV_ACTIVATION,\n",
    "                     kernel_initializer = initializer,\n",
    "                     bias_initializer   = bias))\n",
    "    if CONV2:\n",
    "        model.add(Conv1D(filters            = FILTERS1, \n",
    "                         kernel_size        = KERNEL_SIZE1, \n",
    "                         padding            = PADDING1,\n",
    "                         dilation_rate      = DILATION_RATE1,\n",
    "                         activation         = CONV_ACTIVATION,\n",
    "                         kernel_initializer = initializer,\n",
    "                         bias_initializer   = bias))\n",
    "    model.add(MaxPooling1D(pool_size        = POOL_SIZE1))\n",
    "    model.add(Dropout(     rate             = DROPOUT))\n",
    "    \n",
    "    if CONV_POOL2:\n",
    "        model.add(Conv1D(filters            = FILTERS1, \n",
    "                         kernel_size        = KERNEL_SIZE1, \n",
    "                         padding            = PADDING1,\n",
    "                         dilation_rate      = DILATION_RATE1,\n",
    "                         activation         = CONV_ACTIVATION,\n",
    "                         kernel_initializer = initializer,\n",
    "                         bias_initializer   = bias))\n",
    "        if CONV2:\n",
    "            model.add(Conv1D(filters            = FILTERS1, \n",
    "                             kernel_size        = KERNEL_SIZE1, \n",
    "                             padding            = PADDING1,\n",
    "                             dilation_rate      = DILATION_RATE1,\n",
    "                             activation         = CONV_ACTIVATION,\n",
    "                             kernel_initializer = initializer,\n",
    "                             bias_initializer   = bias))\n",
    "        model.add(MaxPooling1D(pool_size        = POOL_SIZE1))\n",
    "        model.add(Dropout(     rate             = DROPOUT))\n",
    "    \n",
    "    if OPEN_END:\n",
    "        if DEPTH == 1:\n",
    "            model.add(LSTM(units = LSTM1, return_sequences = True, bias_initializer = keras.initializers.Constant(value=0.1)))\n",
    "        if DEPTH == 2:\n",
    "            model.add(LSTM(units = LSTM1, return_sequences = True, bias_initializer = keras.initializers.Constant(value=0.1)))\n",
    "            model.add(LSTM(units = LSTM1, return_sequences = True, bias_initializer = keras.initializers.Constant(value=0.1)))\n",
    "        if DEPTH == 3:\n",
    "            model.add(LSTM(units = LSTM1, return_sequences = True, bias_initializer = keras.initializers.Constant(value=0.1)))\n",
    "            model.add(LSTM(units = LSTM1, return_sequences = True, bias_initializer = keras.initializers.Constant(value=0.1)))\n",
    "            model.add(LSTM(units = LSTM1, return_sequences = True, bias_initializer = keras.initializers.Constant(value=0.1)))\n",
    "        model.add(Flatten())\n",
    "    else:\n",
    "        if DEPTH == 1:\n",
    "            model.add(LSTM(units = LSTM1, return_sequences = False, bias_initializer = keras.initializers.Constant(value=0.1)))\n",
    "        if DEPTH == 2:\n",
    "            model.add(LSTM(units = LSTM1, return_sequences = True, bias_initializer = keras.initializers.Constant(value=0.1)))\n",
    "            model.add(LSTM(units = LSTM1, return_sequences = False, bias_initializer = keras.initializers.Constant(value=0.1)))\n",
    "        if DEPTH == 3:\n",
    "            model.add(LSTM(units = LSTM1, return_sequences = True, bias_initializer = keras.initializers.Constant(value=0.1)))\n",
    "            model.add(LSTM(units = LSTM1, return_sequences = True, bias_initializer = keras.initializers.Constant(value=0.1)))\n",
    "            model.add(LSTM(units = LSTM1, return_sequences = False, bias_initializer = keras.initializers.Constant(value=0.1)))\n",
    "    \n",
    "    model.add(Activation(LSTM_ACTIVATION))    \n",
    "    model.add(Dropout(rate = DROPOUT))\n",
    "    \n",
    "    model.add(Dense(units               = DENSE_UNITS, \n",
    "                    activation          = ACTIVATION2,\n",
    "                    kernel_initializer  = initializer,\n",
    "                    bias_initializer    = bias))\n",
    "\n",
    "    model.add(Dropout(rate              = DROPOUT))\n",
    "\n",
    "    model.add(Dense(units               = y_train.shape[1], \n",
    "                    activation          = ACTIVATION2,\n",
    "                    kernel_initializer  = initializer,\n",
    "                    bias_initializer    = bias))\n",
    "    \n",
    "    model.compile(loss = 'mse', optimizer = keras.optimizers.Adam(learning_rate=OPTIMIZER))\n",
    "    return model"
   ]
  },
  {
   "cell_type": "markdown",
   "metadata": {},
   "source": [
    "# Gridsearching the hyper-parameter grid\n",
    "This function combines the functionality of every preceding function to create a dataset, define a model, train that model for 150 epochs, save the best scoring model in a checkpoint file, load the best model when 150 epochs have been completed and evaluate it using x_test as model input and y_test as model output. This function and the loop that uses it differ the most from job to job, so two versions have been included, each using the 30 minute ahead forecasting horizon and CNN-LSTM model. The function returns the error metric values and input data shapes for sanity's sake. The saved checkpoint of the model is a complete copy of the trained model and can be used later for analysis.\n",
    "\n",
    "STEP is written as a hyper parameter, but this was later neglected and set to 121. This allows the program to skip 121 timesteps between each input sample when generating x_train and y_train, so one sample and thus prediction every 121 minutes. This was done to conserve resources and because it appeared to not affect accuracy too much in preliminary testing."
   ]
  },
  {
   "cell_type": "markdown",
   "metadata": {},
   "source": [
    "### Training & evaluation function for the DWT as features & no DWT implementations"
   ]
  },
  {
   "cell_type": "code",
   "execution_count": null,
   "metadata": {},
   "outputs": [],
   "source": [
    "def grid_search(df, col_selection, HISTORY, STEP_FACTOR,\n",
    "                FILTERS1, KERNEL_SIZE1, PADDING1, DILATION_RATE1,\n",
    "                CONV_ACTIVATION, CONV2, POOL_SIZE1, CONV_POOL2, \n",
    "                OPEN_END, DEPTH, LSTM1, LSTM_ACTIVATION, \n",
    "                DENSE_UNITS, DROPOUT, ACTIVATION2, \n",
    "                OPTIMIZER, counter,\n",
    "                TIME_STEPS_PER_DAY = TIME_STEPS_PER_DAY, \n",
    "                TRAIN_TEST_SPLIT = TRAIN_TEST_SPLIT):\n",
    "    df = df[['151'] + col_selection].values\n",
    "    \n",
    "    TARGET_COL = df[:,0]\n",
    "    HISTORY_SIZE = TIME_STEPS_PER_DAY * HISTORY\n",
    "    TARGET_SIZE = int(TIME_STEPS_PER_DAY / 2)\n",
    "    STEP = 121\n",
    "\n",
    "    x_train, y_train = multivariate_data(df, TARGET_COL, 0, TRAIN_TEST_SPLIT, HISTORY_SIZE, TARGET_SIZE, STEP)\n",
    "    x_train, y_train = remove_nan(x_train, y_train)\n",
    "    train_shape = x_train.shape\n",
    "    \n",
    "    x_test, y_test = multivariate_data(df, TARGET_COL, TRAIN_TEST_SPLIT, None, HISTORY_SIZE, TARGET_SIZE, STEP)\n",
    "    x_test, y_test = remove_nan(x_test, y_test)\n",
    "    test_shape = x_test.shape\n",
    "\n",
    "    model = make_model(x_train = x_train,\n",
    "                       y_train = y_train,\n",
    "                       FILTERS1       = FILTERS1,\n",
    "                       KERNEL_SIZE1   = KERNEL_SIZE1,\n",
    "                       PADDING1       = PADDING1,\n",
    "                       DILATION_RATE1 = DILATION_RATE1,\n",
    "                       CONV_ACTIVATION= CONV_ACTIVATION,\n",
    "                       CONV2          = CONV2,\n",
    "                       POOL_SIZE1     = POOL_SIZE1,\n",
    "                       CONV_POOL2     = CONV_POOL2,\n",
    "                       OPEN_END       = OPEN_END,\n",
    "                       DEPTH          = DEPTH,\n",
    "                       LSTM1          = LSTM1,\n",
    "                       LSTM_ACTIVATION= LSTM_ACTIVATION,\n",
    "                       DENSE_UNITS    = DENSE_UNITS, \n",
    "                       DROPOUT        = DROPOUT, \n",
    "                       ACTIVATION2    = ACTIVATION2, \n",
    "                       OPTIMIZER      = OPTIMIZER)\n",
    "\n",
    "    checkpoint_path = results_path + 'checkpoints/'\n",
    "    Path(checkpoint_path).mkdir(parents=True, exist_ok=True)\n",
    "    checkpoint = keras.callbacks.ModelCheckpoint(filepath       = checkpoint_path + str(counter) + '_cp.h5',\n",
    "                                                 save_best_only = True,\n",
    "                                                 monitor        = 'val_loss')\n",
    "\n",
    "    history = model.fit(x_train, y_train,\n",
    "                        epochs          = 150, \n",
    "                        batch_size      = 24,\n",
    "                        validation_data = (x_test, y_test),\n",
    "                        callbacks       = [checkpoint],\n",
    "                        verbose         = 0,\n",
    "                        shuffle         = False)\n",
    "\n",
    "    model = load_model(checkpoint_path + str(counter) + '_cp.h5')\n",
    "    \n",
    "    x_test1, y_test1 = multivariate_data(df, TARGET_COL, TRAIN_TEST_SPLIT, None, HISTORY_SIZE, TARGET_SIZE, 119)\n",
    "    x_test1, y_test1 = remove_nan(x_test1, y_test1)\n",
    "    \n",
    "    predictions = model.predict(x_test1)\n",
    "    predictions[predictions<0] = 0\n",
    "    \n",
    "    mse = mean_squared_error(y_test1, predictions, squared=True)\n",
    "    mae = mean_absolute_error(y_test1, predictions)\n",
    "    mre_3 = mean_ramp_error(y_test1, predictions)\n",
    "\n",
    "    return mre_3, mse, mae, train_shape, test_shape"
   ]
  },
  {
   "cell_type": "markdown",
   "metadata": {},
   "source": [
    "### Training & evaluation function for the DWT as features models\n",
    "This does all the same things the function above does, but it trains multiple models, one for each level of DWT and reconstructs a single output using each model's output using the .wavedec function in pywt (python wavelet transform)."
   ]
  },
  {
   "cell_type": "code",
   "execution_count": null,
   "metadata": {},
   "outputs": [],
   "source": [
    "def grid_search(df, col_selection, HISTORY, STEP_FACTOR,\n",
    "                LEVEL, WAVELET,\n",
    "                FILTERS1, KERNEL_SIZE1, PADDING1, DILATION_RATE1, ACTIVATION1, \n",
    "                CONV2, POOL_SIZE1, CONV_POOL2, DENSE_UNITS, DROPOUT, ACTIVATION2, \n",
    "                OPTIMIZER, counter,\n",
    "                TIME_STEPS_PER_DAY = TIME_STEPS_PER_DAY, \n",
    "                TRAIN_TEST_SPLIT = TRAIN_TEST_SPLIT):\n",
    "    df = df[['151'] + col_selection]\n",
    "    \n",
    "    df_eval = df.values\n",
    "    x_eval, y_eval = multivariate_data(df_eval, df_eval[:,0], TRAIN_TEST_SPLIT, None, TIME_STEPS_PER_DAY * HISTORY, int(TIME_STEPS_PER_DAY / 2), TIME_STEPS_PER_DAY)\n",
    "    x_eval, y_eval = remove_nan(x_eval, y_eval)\n",
    "    \n",
    "    scalers, wavelets = dwt(df, WAVELET, LEVEL)\n",
    "    \n",
    "    TS = ts_per_day(wavelets, TIME_STEPS_PER_DAY)\n",
    "    TTsplit = ts_per_day(wavelets, TRAIN_TEST_SPLIT)\n",
    "    \n",
    "    \n",
    "    PREDICTIONS = []\n",
    "    \n",
    "    coeff = 0\n",
    "    for TIME_STEPS_PER_DAY in TS:\n",
    "\n",
    "        df = wavelets[coeff].values\n",
    "        \n",
    "        TARGET_COL = df[:,0]\n",
    "        HISTORY_SIZE = TIME_STEPS_PER_DAY * HISTORY\n",
    "        TARGET_SIZE = int(TIME_STEPS_PER_DAY / 2)\n",
    "        STEP = TIME_STEPS_PER_DAY\n",
    "        \n",
    "        \n",
    "        x_train, y_train = multivariate_data(df, TARGET_COL, 0, TTsplit[coeff], HISTORY_SIZE, TARGET_SIZE, STEP)\n",
    "        x_train, y_train = remove_nan(x_train, y_train)\n",
    "        train_shape = x_train.shape\n",
    "\n",
    "        x_test, y_test = multivariate_data(df, TARGET_COL, TTsplit[coeff], None, HISTORY_SIZE, TARGET_SIZE, STEP)\n",
    "        x_test, y_test = remove_nan(x_test, y_test)\n",
    "        test_shape = x_test.shape\n",
    "        \n",
    "\n",
    "        \n",
    "        model = make_model(x_train        = x_train,\n",
    "                           y_train        = y_train,\n",
    "                           FILTERS1       = FILTERS1, \n",
    "                           KERNEL_SIZE1   = KERNEL_SIZE1, \n",
    "                           PADDING1       = PADDING1, \n",
    "                           DILATION_RATE1 = DILATION_RATE1, \n",
    "                           ACTIVATION1    = ACTIVATION1, \n",
    "                           CONV2          = CONV2, \n",
    "                           POOL_SIZE1     = POOL_SIZE1, \n",
    "                           CONV_POOL2     = CONV_POOL2, \n",
    "                           DENSE_UNITS    = DENSE_UNITS, \n",
    "                           DROPOUT        = DROPOUT, \n",
    "                           ACTIVATION2    = ACTIVATION2, \n",
    "                           OPTIMIZER      = OPTIMIZER)\n",
    "        \n",
    "        checkpoint_path = results_path + 'checkpoints/'\n",
    "        Path(checkpoint_path).mkdir(parents=True, exist_ok=True)\n",
    "        checkpoint = keras.callbacks.ModelCheckpoint(filepath       = checkpoint_path + str(counter) + '_' + str(coeff) + '_cp.h5',\n",
    "                                                     save_best_only = True,\n",
    "                                                     monitor        = 'val_loss')\n",
    "\n",
    "        history = model.fit(x_train, y_train,\n",
    "                            epochs          = 200, \n",
    "                            batch_size      = 24,\n",
    "                            validation_data = (x_test, y_test),\n",
    "                            callbacks       = [checkpoint],\n",
    "                            verbose         = 0,\n",
    "                            shuffle         = False)\n",
    "\n",
    "        model = load_model(checkpoint_path + str(counter) + '_' + str(coeff) + '_cp.h5')\n",
    "\n",
    "        x_test1, y_test1 = multivariate_data(df, TARGET_COL, TTsplit[coeff], None, HISTORY_SIZE, TARGET_SIZE, TIME_STEPS_PER_DAY)\n",
    "        x_test1, y_test1 = remove_nan(x_test1, y_test1)\n",
    "\n",
    "        predictions = model.predict(x_test1)\n",
    "        predictions = scalers[coeff].inverse_transform(predictions)\n",
    "        PREDICTIONS.append(predictions[0:5000])\n",
    "        \n",
    "        coeff += 1\n",
    "    \n",
    "    \n",
    "    predictions = pywt.waverec(PREDICTIONS, WAVELET, axis = 1)\n",
    "    predictions[predictions<0] = 0\n",
    "\n",
    "    mse = mean_squared_error(y_eval[0:5000, :], predictions, squared=True)\n",
    "    mae = mean_absolute_error(y_eval[0:5000, :], predictions)\n",
    "    mre_3 = mean_ramp_error(y_eval[0:5000, :], predictions)\n",
    "\n",
    "    return mre_3, mse, mae, train_shape, test_shape, PREDICTIONS"
   ]
  },
  {
   "cell_type": "markdown",
   "metadata": {},
   "source": [
    "## The hyper parameter grid\n",
    "Works the same way for every job but with different hyper-parameters and hyper-parameter values. The variables \"dwt1\", \"dwt2\", \"dwt3\" and \"dwt4\" are lists of variable names based on their string syntax as described when creating the datasets. The values for the hyper parameters stem from literature research (see thesis) and the results of jobs that completed before the one shown below was completed (as explained in my thesis)."
   ]
  },
  {
   "cell_type": "code",
   "execution_count": null,
   "metadata": {},
   "outputs": [],
   "source": [
    "dt_only = ['year_2015', 'year_2016', 'year_2017', 'month_sin', 'month_cos', 'day_sin', 'day_cos', 'hour_sin', 'hour_cos', 'minute_sin', 'minute_cos']\n",
    "irradiance = ['Q_GLOB_10', 'QN_GLOB_10', 'QX_GLOB_10', 'SQ_10']\n",
    "wind = ['FF_10M_10', 'DD_10_sin', 'DD_10_cos', 'DDN_10_sin', 'DDN_10_cos', 'DD_STD_10_sin', 'DD_STD_10_cos', 'DDX_10_sin', 'DDX_10_cos', \n",
    "        'FF_SENSOR_10', 'FF_10M_STD_10', 'FX_SENSOR_10']\n",
    "\n",
    "dwt1 = list(df[df.columns[df.columns.str.startswith('dwt1', na=False)]].columns)\n",
    "dwt2 = list(df[df.columns[df.columns.str.startswith('dwt2', na=False)]].columns)\n",
    "dwt3 = list(df[df.columns[df.columns.str.startswith('dwt3', na=False)]].columns)\n",
    "dwt4 = list(df[df.columns[df.columns.str.startswith('dwt4', na=False)]].columns)\n",
    "\n",
    "parameters = {'col_selection'  : [irradiance,\n",
    "                                  irradiance + dwt1,\n",
    "                                  irradiance + dwt2,\n",
    "                                  irradiance + dwt3,\n",
    "                                  irradiance + dwt4],\n",
    "              'HISTORY'        : [3,5,7],\n",
    "              'STEP_FACTOR'    : [1],\n",
    "              'FILTERS1'       : [64],\n",
    "              'KERNEL_SIZE1'   : [5],\n",
    "              'PADDING1'       : ['same'],\n",
    "              'DILATION_RATE1' : [1],\n",
    "              'CONV_ACTIVATION': ['relu'],\n",
    "              'CONV2'          : [True],\n",
    "              'POOL_SIZE1'     : [3,5],\n",
    "              'CONV_POOL2'     : [True, False],\n",
    "              'OPEN_END'       : [False],\n",
    "              'DEPTH'          : [1,2,3],\n",
    "              'LSTM1'          : [100],\n",
    "              'LSTM_ACTIVATION': ['relu'],\n",
    "              'DROPOUT'        : [0.2], \n",
    "              'DENSE_UNITS'    : [100],\n",
    "              'ACTIVATION2'    : ['relu'],\n",
    "              'OPTIMIZER'      : [0.001, 0.0005, 0.0001]\n",
    "              }\n",
    "\n",
    "param_grid = ParameterGrid(parameters)"
   ]
  },
  {
   "cell_type": "markdown",
   "metadata": {},
   "source": [
    "# Bringing it all together!\n",
    "The code below defines an output dataframe, output path and starts a loop over the parameter grid that contains every combination of hyper parameter values possible (a grid). A timer is started to record how long it took to train and evaluate each separate model and the grid_search function is run using values from the parameter grid. Afterwards the training time is recorded and the outputs of the model are appended to the output file. \n",
    "\n",
    "It is done this way to save all results after every training run. This way no combination of hyper-parameters needs to be re-tried in the event of cluster failure (we had 2 power outages a failed update a crash and my code crashed once while it was still in alpha emphasizing the need for this capability. In order to pick up where it left off before crashing the already completed entries in the parameter grid need to be skipped when defining the for loop. A crude approach is to wrap everything in the for loop in an if statement that depends on the \"counter\" variable.\n",
    "\n",
    "If all is succesful a file that contains all hyper parameter values, model and input data properties, training time and error metric scores for each combination of hyper-parameters is produced.\n",
    "\n",
    "This code differs from job to job due to the different hyper-parameters present in each job"
   ]
  },
  {
   "cell_type": "code",
   "execution_count": null,
   "metadata": {},
   "outputs": [],
   "source": [
    "grid_results = pd.DataFrame(columns = ['counter', 'col_selection', 'HISTORY',  \n",
    "                                       \n",
    "                                       'FILTERS1', 'KERNEL_SIZE1', 'PADDING1', 'DILATION_RATE1', \n",
    "                                       'CONV_ACTIVATION', 'CONV2', 'POOL_SIZE1', 'CONV_POOL2',\n",
    "                                       \n",
    "                                       'STEP_FACTOR', 'OPEN_END', 'DEPTH', 'LSTM1', 'LSTM_ACTIVATION',\n",
    "                                       \n",
    "                                       'DROPOUT', 'DENSE_UNITS', 'ACTIVATION2', \n",
    "                                       \n",
    "                                       'OPTIMIZER', 'mre_3', 'mse', 'mae', 'train_samples', 'test_samples', 'train_time'])\n",
    "\n",
    "output_path = results_path + 'gridsearch_results.csv'\n",
    "\n",
    "\n",
    "for dict_ in param_grid:\n",
    "    start = time()\n",
    "    mre_3, conv_mse, mae, train_shape, test_shape = grid_search(df, dict_['col_selection'], dict_['HISTORY'], dict_['STEP_FACTOR'], \n",
    "                                                                                 dict_['FILTERS1'], \n",
    "                                                                                 dict_['KERNEL_SIZE1'],\n",
    "                                                                                 dict_['PADDING1'], \n",
    "                                                                                 dict_['DILATION_RATE1'], \n",
    "                                                                                 dict_['CONV_ACTIVATION'], \n",
    "                                                                                 dict_['CONV2'], \n",
    "                                                                                 dict_['POOL_SIZE1'], \n",
    "                                                                                 dict_['CONV_POOL2'],\n",
    "                                                                                 dict_['OPEN_END'],\n",
    "                                                                                 dict_['DEPTH'],\n",
    "                                                                                 dict_['LSTM1'],\n",
    "                                                                                 dict_['LSTM_ACTIVATION'],\n",
    "                                                                                 dict_['DENSE_UNITS'],\n",
    "                                                                                 dict_['DROPOUT'], \n",
    "                                                                                 dict_['ACTIVATION2'], \n",
    "                                                                                 dict_['OPTIMIZER'],\n",
    "                                                                                 counter)\n",
    "    train_time = round(time() - start, 2)\n",
    "    grid_results = grid_results.append({'counter'    : counter, \n",
    "                                    'col_selection'  : dict_['col_selection'], \n",
    "                                    'HISTORY'        : dict_['HISTORY'], \n",
    "                                    'FILTERS1'       : dict_['FILTERS1'],\n",
    "                                    'KERNEL_SIZE1'   : dict_['KERNEL_SIZE1'],\n",
    "                                    'PADDING1'       : dict_['PADDING1'],\n",
    "                                    'DILATION_RATE1' : dict_['DILATION_RATE1'],\n",
    "                                    'CONV_ACTIVATION': dict_['CONV_ACTIVATION'],\n",
    "                                    'CONV2'          : dict_['CONV2'],\n",
    "                                    'POOL_SIZE1'     : dict_['POOL_SIZE1'],\n",
    "                                    'CONV_POOL2'     : dict_['CONV_POOL2'],\n",
    "                                    'STEP_FACTOR'    : dict_['STEP_FACTOR'], \n",
    "                                    'OPEN_END'       : dict_['OPEN_END'], \n",
    "                                    'DEPTH'          : dict_['DEPTH'], \n",
    "                                    'LSTM1'          : dict_['LSTM1'], \n",
    "                                    'LSTM_ACTIVATION': dict_['LSTM_ACTIVATION'],\n",
    "                                    'DROPOUT'        : dict_['DROPOUT'], \n",
    "                                    'DENSE_UNITS'    : dict_['DENSE_UNITS'], \n",
    "                                    'ACTIVATION2'    : dict_['ACTIVATION2'], \n",
    "                                    'OPTIMIZER'      : dict_['OPTIMIZER'], \n",
    "                                    'mre_3'          : mre_3,\n",
    "                                    'mse'            : conv_mse, \n",
    "                                    'mae'            : mae, \n",
    "                                    'train_samples'  : train_shape[0], \n",
    "                                    'test_samples'   : test_shape[0], \n",
    "                                    'train_time'     : str(train_time)\n",
    "                                   }, ignore_index = True\n",
    "                                  )\n",
    "    grid_results.to_csv(output_path, sep=',')\n",
    "    counter += 1\n",
    "    print('Done!: ' + str(counter) + ' train_time: ' + str(train_time))"
   ]
  },
  {
   "cell_type": "markdown",
   "metadata": {},
   "source": [
    "# Results analysis:\n",
    "For all future sections: difficult to comment as it was done in a hurry and outside of jupyter notebook. \n",
    "\n",
    "In essence it takes the output file generated in the previous step and produces a pivot table for every hyper parameter value, groups them based on which hyper parameter they belong to and outputs a pretty latex .tex file, the one shown below was for the output of the DWT as features 30 minute ahead results."
   ]
  },
  {
   "cell_type": "code",
   "execution_count": null,
   "metadata": {},
   "outputs": [],
   "source": [
    "import pandas as pd\n",
    "import numpy as np\n",
    "import matplotlib.pyplot as plt\n",
    "import seaborn as sns\n",
    "from pathlib import Path\n",
    "\n",
    "\n",
    "#%%\n",
    "\n",
    "version = 'Day ahead DWT as features'\n",
    "\n",
    "cols = {'col_selection' : 'Feature collections',\n",
    "        'HISTORY' : 'History (in days)',\n",
    "        'FILTERS1' : 'CNN filter layers',\n",
    "        'KERNEL_SIZE1' : 'Kernel size',\n",
    "        'CONV_ACTIVATION' : 'CNN activation function',\n",
    "        'CONV2' : 'Second CNN kernel',\n",
    "        'POOL_SIZE1' : 'MaxPooling layer size',\n",
    "        'CONV_POOL2' : 'Second set of cnn+pooling layers',\n",
    "        'DILATION_RATE1' : 'Dilation rate',\n",
    "        'DEPTH' : 'Number of LSTM layers',\n",
    "        'LSTM1' : 'LSTM history vector length',\n",
    "        'ACTIVATION1' : 'LSTM v CNN activation function',\n",
    "        'DROPOUT' : 'Dropout rate',\n",
    "        'ACTIVATION2' : 'Dense layer activation function',\n",
    "        'DENSE_UNITS' : 'Number of neurons in Dense layer',\n",
    "        'OPTIMIZER' : 'Learning rate',\n",
    "        'mse' : 'MSE',\n",
    "        'mae' : 'MAE',\n",
    "        'train_time' : 'Time required to train in seconds'\n",
    "        } \n",
    "\n",
    "def reshape_col_names(path):\n",
    "    results = pd.read_csv(path, index_col = 'counter')\n",
    "    results = results.drop('Unnamed: 0', axis = 1)\n",
    "    results = results.rename(columns = {'LSTM_ACTIVATION' : 'ACTIVATION1'})\n",
    "    \n",
    "    dt_only = ['year_2015', 'year_2016', 'year_2017', 'month_sin', 'month_cos', 'day_sin', 'day_cos', 'hour_sin', 'hour_cos', 'minute_sin', 'minute_cos']\n",
    "    sensors = ['181', '192', '226', '262', '288', '317', '373', '380', '532']\n",
    "    rain = ['DR_REGENM_10', 'RI_REGENM_10']\n",
    "    temp = ['U_BOOL_10', 'T_DRYB_10', 'TN_10CM_PAST_6H_10', 'T_DEWP_10', 'TN_DRYB_10', 'T_WETB_10', 'TX_DRYB_10', 'U_10']\n",
    "    pres_hum = ['P_NAP_MSL_10', 'VV_10', 'AH_10', 'MOR_10']\n",
    "    wind_cols = ['FF_10M_10', 'DD_10_sin', 'DD_10_cos', 'DDN_10_sin', 'DDN_10_cos', 'DD_STD_10_sin', 'DD_STD_10_cos', 'DDX_10_sin', 'DDX_10_cos', 'FF_SENSOR_10', \n",
    "                 'FF_10M_STD_10', 'FX_SENSOR_10']\n",
    "    irr_cols = ['Q_GLOB_10', 'QN_GLOB_10', 'QX_GLOB_10', 'SQ_10']\n",
    "    \n",
    "    csv_path = '../../pv_data/ML_input_15T_dwt.csv'\n",
    "    df = pd.read_csv(csv_path,\n",
    "                     index_col=0,\n",
    "                     parse_dates=True,\n",
    "                     infer_datetime_format = True,\n",
    "                     nrows = 1)\n",
    "    \n",
    "    dwt1 = list(df[df.columns[df.columns.str.startswith('dwt1', na=False)]].columns)\n",
    "    dwt2 = list(df[df.columns[df.columns.str.startswith('dwt2', na=False)]].columns)\n",
    "    dwt3 = list(df[df.columns[df.columns.str.startswith('dwt3', na=False)]].columns)\n",
    "    dwt4 = list(df[df.columns[df.columns.str.startswith('dwt4', na=False)]].columns)\n",
    "    \n",
    "    \n",
    "    d = {'[]' : 'univariate' ,\n",
    "         str(['year_2015', 'year_2016', 'year_2017', 'month_sin', 'month_cos', 'day_sin', 'day_cos', 'hour_sin', 'hour_cos', 'minute_sin', 'minute_cos']) : 'daytime',\n",
    "         str(['181', '192', '226', '262', '288', '317', '373', '380', '532']) : 'sensors',\n",
    "         str(dt_only + sensors) : 'daytime + sensors',\n",
    "         str(dt_only + wind_cols + sensors) : 'daytime + wind + sensors',\n",
    "         str(wind_cols + sensors) : 'wind + sensors',\n",
    "         str(rain) : 'rain',\n",
    "         str(temp) : 'temperature',\n",
    "         str(pres_hum) : 'pressure and humidity',\n",
    "         str(wind_cols) : 'wind',\n",
    "         str(irr_cols) : 'irradiance',\n",
    "         str(wind_cols + irr_cols) : 'wind + irradiance',\n",
    "         str(dt_only + wind_cols + irr_cols) : 'daytime + wind + irradiance',\n",
    "         str(dt_only + wind_cols + irr_cols + dwt1) : 'daytime + wind + irradiance + DWT level 1',\n",
    "         str(dt_only + wind_cols + irr_cols + dwt2) : 'daytime + wind + irradiance + DWT level 2',\n",
    "         str(dt_only + wind_cols + irr_cols + dwt3) : 'daytime + wind + irradiance + DWT level 3',\n",
    "         str(dt_only + wind_cols + irr_cols + dwt4) : 'daytime + wind + irradiance + DWT level 4'\n",
    "         } \n",
    "    \n",
    "    corrected = results.col_selection.map(d)\n",
    "    results['col_selection'] = corrected\n",
    "    results = results.sort_values(by = 'mse', axis = 0)\n",
    "    best_result = pd.DataFrame(results.values[0,:], index = results.columns.transpose(), columns = [path.split('/')[2]])\n",
    "    return results, best_result\n",
    "\n",
    "def make_pivot_tables(results, searched_params):\n",
    "    pivot_tables = {}\n",
    "    for i in searched_params:\n",
    "        pivot_tables.update({i : pd.pivot_table(results, values='mse', index=[i]).sort_values(by='mse', axis=0)})\n",
    "        \n",
    "    if \"CONV2\" in pivot_tables:\n",
    "        pivot_tables['CONV2'].index = pivot_tables['CONV2'].index.astype(dtype=str)\n",
    "    if \"CONV_POOL2\" in  pivot_tables:\n",
    "        pivot_tables['CONV_POOL2'].index = pivot_tables['CONV_POOL2'].index.astype(dtype=str)\n",
    "        \n",
    "    return pivot_tables\n",
    "\n",
    "def analyse_results(path, params, directory, cols=cols, version = version):\n",
    "    cnn, best_model = reshape_col_names(path)\n",
    "    pivot_tables = pd.concat(make_pivot_tables(cnn, params))\n",
    "    pivot_tables = pivot_tables.rename(index=cols)\n",
    "    pivot_tables.index = pivot_tables.index.set_names(['Hyper-parameter', 'H-parameter values'])\n",
    "    pivot_tables.columns = [directory]\n",
    "\n",
    "    return pivot_tables, best_model\n",
    "\n",
    "#%%\n",
    "    \n",
    "Hparam_grid = ['col_selection', \n",
    "                'HISTORY', \n",
    "                'DENSE_UNITS',\n",
    "                'ACTIVATION2',\n",
    "                'DROPOUT']\n",
    "\n",
    "\n",
    "cnn, best_cnn = analyse_results('../day_ahead/dwt_as_features_conv/gridsearch_results.csv', \n",
    "                      Hparam_grid + ['FILTERS1', 'KERNEL_SIZE1', 'DILATION_RATE1', 'CONV2', 'POOL_SIZE1', 'CONV_POOL2'],\n",
    "                      'cnn'\n",
    "                      )\n",
    "lstm, best_lstm = analyse_results('../day_ahead/dwt_as_features_lstm/gridsearch_results.csv', \n",
    "                      Hparam_grid + ['DEPTH', 'LSTM1'],\n",
    "                      'lstm'\n",
    "                      )\n",
    "conv_lstm, best_conv_lstm = analyse_results('../day_ahead/dwt_as_features_conv_lstm/gridsearch_results.csv', \n",
    "                      Hparam_grid + ['DEPTH', 'LSTM1'] + ['FILTERS1', 'KERNEL_SIZE1', 'DILATION_RATE1', 'CONV2', 'POOL_SIZE1', 'CONV_POOL2'],\n",
    "                      'conv lstm'\n",
    "                      )\n",
    "\n",
    "level0_index = cols.values()\n",
    "Hparam_results = cnn.join([lstm, conv_lstm], how='outer')\n",
    "\n",
    "def sorter(sub_df):\n",
    "    sub_df = sub_df.sort_values(sub_df.columns[1])\n",
    "    sub_df.index = sub_df.index.droplevel(0)\n",
    "    return sub_df\n",
    "\n",
    "Hparam_results = Hparam_results.groupby(level='Hyper-parameter').apply(sorter)\n",
    "Hparam_results = Hparam_results.reindex(level0_index, level=0)\n",
    "\n",
    "Hparam_results = Hparam_results.fillna('-')\n",
    "Hparam_results.to_latex(version + ' Hparam.tex',\n",
    "                        label = 'tab:' + version + ' Hparams',\n",
    "                        caption = version + ' Hyper parameter search results as average mse per hyper parameter configuration (each option was tested against all possible values of all other parameters), note: sorted ascending by conv lstm values',\n",
    "                        multirow = True)\n",
    "\n",
    "#%%\n",
    "best_day_ahead = pd.DataFrame().join([best_cnn.iloc[:,0], best_lstm.iloc[:,0], best_conv_lstm.iloc[:,0]], how = 'outer')\n",
    "best_day_ahead.columns = ['conv', 'lstm', 'conv lstm']\n",
    "\n",
    "best_day_ahead = best_day_ahead.drop(['train_samples', 'test_samples', 'PADDING1', 'OPTIMIZER', 'CONV_ACTIVATION'])\n",
    "best_day_ahead = best_day_ahead.rename(index=cols)\n",
    "\n",
    "best_day_ahead = best_day_ahead.fillna('-')\n",
    "best_day_ahead.to_latex(version + ' best_model.tex',\n",
    "                        caption = version + ' Results of hyperparameter search for the best performing model per archetype',\n",
    "                        label = 'tab:' + version + ' best_model')"
   ]
  },
  {
   "attachments": {
    "2651948d-a4cd-440c-ab8f-db4320df491c.png": {
     "image/png": "[encoded data removed]"
    }
   },
   "cell_type": "markdown",
   "metadata": {},
   "source": [
    "### The same table as it appears in the appendix of my Msc Thesis:\n",
    "![image.png](attachment:2651948d-a4cd-440c-ab8f-db4320df491c.png)"
   ]
  },
  {
   "cell_type": "markdown",
   "metadata": {},
   "source": [
    "### Code used to ingest a ML_input dataset and run the best scoring model to produce predictions based on x_test and y_test:"
   ]
  },
  {
   "cell_type": "code",
   "execution_count": null,
   "metadata": {},
   "outputs": [],
   "source": [
    "import pandas as pd\n",
    "import numpy as np\n",
    "import matplotlib.pyplot as plt\n",
    "import seaborn as sns\n",
    "from pathlib import Path\n",
    "import tensorflow as tf\n",
    "import tensorflow.keras as keras\n",
    "from tensorflow.keras.models import load_model\n",
    "from sklearn.preprocessing import MinMaxScaler\n",
    "import matplotlib.pyplot as plt\n",
    "import seaborn as sns\n",
    "import functions_temp as func\n",
    "\n",
    "\n",
    "\n",
    "\n",
    "df = pd.read_csv('../../../pv_data/ML_input_15T_dwt.csv',\n",
    "                 index_col=0,\n",
    "                 parse_dates=True,\n",
    "                 infer_datetime_format = True)\n",
    "sun_up, sun_down = '04:00:00', '19:45:00'\n",
    "df = df.between_time(sun_up, sun_down)\n",
    "TIME_STEPS_PER_DAY = len(df.loc['1-1-2016'])\n",
    "TRAIN_TEST_SPLIT = len(df.loc['1-1-2015':'31-12-2016'])\n",
    "cols = df.columns\n",
    "index = df.index\n",
    "df = df.values\n",
    "scaler_target = MinMaxScaler()\n",
    "target = scaler_target.fit_transform(df[:,:1])\n",
    "scaler_features = MinMaxScaler()\n",
    "features = scaler_features.fit_transform(df[:,1:])\n",
    "df = np.concatenate((target, features), axis=1)\n",
    "df = pd.DataFrame(df, index = index, columns = cols)\n",
    "dt_only = ['year_2015', 'year_2016', 'year_2017', 'month_sin', 'month_cos', 'day_sin', 'day_cos', 'hour_sin', 'hour_cos', 'minute_sin', 'minute_cos']\n",
    "irradiance = ['Q_GLOB_10', 'QN_GLOB_10', 'QX_GLOB_10', 'SQ_10']\n",
    "wind = ['FF_10M_10', 'DD_10_sin', 'DD_10_cos', 'DDN_10_sin', 'DDN_10_cos', 'DD_STD_10_sin', 'DD_STD_10_cos', 'DDX_10_sin', 'DDX_10_cos', 'FF_SENSOR_10', 'FF_10M_STD_10', 'FX_SENSOR_10']\n",
    "dwt1 = list(df[df.columns[df.columns.str.startswith('dwt1', na=False)]].columns)\n",
    "dwt2 = list(df[df.columns[df.columns.str.startswith('dwt2', na=False)]].columns)\n",
    "dwt3 = list(df[df.columns[df.columns.str.startswith('dwt3', na=False)]].columns)\n",
    "dwt4 = list(df[df.columns[df.columns.str.startswith('dwt4', na=False)]].columns)\n",
    "df = df[['151'] + dt_only + wind + irradiance + dwt4]\n",
    "cols = df.columns\n",
    "df = df.values\n",
    "HISTORY = 3\n",
    "TARGET_COL = df[:,0]\n",
    "HISTORY_SIZE = TIME_STEPS_PER_DAY * HISTORY\n",
    "TARGET_SIZE = TIME_STEPS_PER_DAY\n",
    "STEP = TIME_STEPS_PER_DAY\n",
    "x_test1, y_test1 = func.multivariate_data(df, TARGET_COL, TRAIN_TEST_SPLIT, None, HISTORY_SIZE, TARGET_SIZE, STEP)\n",
    "x_test1, y_test1 = func.remove_nan(x_test1, y_test1)\n",
    "\n",
    "\n",
    "DFL = load_model('../old/dwt_as_features_lstm/1985_cp.h5')    \n",
    "predictions = DFL.predict(x_test1)\n",
    "predictions[predictions < 0] = 0"
   ]
  },
  {
   "cell_type": "markdown",
   "metadata": {},
   "source": [
    "### The following code is the content of the \"functions_temp\" file imported in the previous code. \n",
    "You can really see the effect of running out of time at this point. This seemed like a logical move at the time, in hindsight not so much.\n",
    "\n",
    "The multivariate_data and remove_nan functions are identical to the ones shown above, and are included here to be able to create samples and produce forecasts with the best models trained by the jobs on the compute cluster."
   ]
  },
  {
   "cell_type": "code",
   "execution_count": null,
   "metadata": {},
   "outputs": [],
   "source": [
    "import numpy as np\n",
    "import matplotlib.pyplot as plt\n",
    "\n",
    "def multivariate_data(dataset, target, start_index, end_index, history_size,\n",
    "                      target_size, step, single_step=False):\n",
    "  data = []\n",
    "  labels = []\n",
    "\n",
    "  start_index = start_index + history_size\n",
    "  if end_index is None:\n",
    "    end_index = len(dataset) - target_size\n",
    "\n",
    "  for i in range(start_index, end_index, step):\n",
    "    indices = range(i-history_size, i)\n",
    "    data.append(dataset[indices])\n",
    "\n",
    "    if single_step:\n",
    "      labels.append(target[i+target_size])\n",
    "    else:\n",
    "      labels.append(target[i:i+target_size])\n",
    "\n",
    "  return np.array(data), np.array(labels)\n",
    "\n",
    "def remove_nan(X,Y):\n",
    "    x = []\n",
    "    y = []\n",
    "    for sample in range(X.shape[0]):\n",
    "        if np.isnan(X[sample,:,:]).any() | np.isnan(Y[sample,:]).any():\n",
    "            None\n",
    "        else:\n",
    "            x.append(X[sample,:,:])\n",
    "            y.append(Y[sample,:])\n",
    "    x = np.array(x)\n",
    "    y = np.array(y)\n",
    "    return x, y\n",
    "\n",
    "def plot_train_test(model_input, expected_output, fig_title, fontsize, predictions = None, end_range = None):\n",
    "    if end_range == None:\n",
    "        end_range = model_input.shape[0]\n",
    "    if hasattr(predictions, \"__len__\"):\n",
    "        cols = 3\n",
    "        FIGSIZE = (18,5)\n",
    "    else:\n",
    "        cols = 2\n",
    "        FIGSIZE = (12,5)\n",
    "        \n",
    "    fig, axs = plt.subplots(1,cols, sharey = True, figsize = FIGSIZE, constrained_layout = True)\n",
    "    for i in range(0, end_range):\n",
    "        axs[0].plot(model_input[i,:,0])\n",
    "        axs[0].set_title('PV power input', fontsize = fontsize+2)\n",
    "        axs[0].set_xlabel('Timesteps, Δt = 1 minute', fontsize = fontsize)\n",
    "        axs[0].set_ylabel('% maximum \\nPV power output', fontsize = fontsize)\n",
    "        axs[1].plot(expected_output[i,:])\n",
    "        axs[1].set_title('expected output', fontsize = fontsize+2)\n",
    "        axs[1].set_xlabel('Timesteps, Δt = 1 minute', fontsize = fontsize)\n",
    "        if hasattr(predictions, \"__len__\"):\n",
    "            axs[2].plot(predictions[i,:])\n",
    "            axs[2].set_title('model output', fontsize = fontsize+2)\n",
    "            axs[2].set_xlabel('Timesteps, Δt = 1 minute', fontsize = fontsize)\n",
    "    plt.legend()\n",
    "    plt.savefig(fig_title)"
   ]
  },
  {
   "cell_type": "markdown",
   "metadata": {},
   "source": [
    "### Code used to produce plots of the predictions of the best scoring models. \n",
    "See thesis for detailed description and visuals. This was done under intense time-pressure, and therefore does not lend itself well for easy interpretation. However with a solid understanding of matplotlib, seaborn and pandas I'm confident any researcher that made it to this point can easily reproduce the visuals created by the code below based on the figure alone. Included for completenes's sake."
   ]
  },
  {
   "cell_type": "code",
   "execution_count": null,
   "metadata": {},
   "outputs": [],
   "source": [
    "fontsize = 13\n",
    "\n",
    "\n",
    "# Plot measured v predicted\n",
    "plt.figure(figsize=(7,5), dpi= 300)\n",
    "plt.scatter(y_test1,predictions, s = 0.05, label = 'Forecast V True')\n",
    "plt.scatter(y_test1,y_test1, s = 0.1, label = 'True V True')\n",
    "plt.ylabel('Forecasted values \\n[% maximum PV power output in test set]', fontsize = fontsize)\n",
    "plt.xlabel('True values \\n[% maximum PV power output in test set]', fontsize = fontsize)\n",
    "plt.tight_layout()\n",
    "plt.legend(markerscale = 10, fontsize = fontsize-1)\n",
    "plt.savefig('TruevPred_plot.png')\n",
    "\n",
    "# Plot prediction dataframe\n",
    "fig, ax = plt.subplots(2,1, figsize = (13,7), constrained_layout = True, sharex = True)\n",
    "ax1 = ax[0].imshow(y_test1.T, vmin = 0, vmax = 0.9)\n",
    "ax[0].set_title('Measurements', fontsize = fontsize+2)\n",
    "ax[0].set_ylabel('Timesteps, \\nΔt = 15 minutes', fontsize = fontsize+1)\n",
    "ax0 = ax[1].imshow(predictions.T, vmin = 0, vmax = 0.9)\n",
    "ax[1].set_title('Forecasted values', fontsize = fontsize+2)\n",
    "ax[1].set_xlabel('Samples (All days in 2017 for which the input and label data was complete)', fontsize = fontsize)\n",
    "ax[1].set_ylabel('Timesteps, \\nΔt = 15 minutes', fontsize = fontsize+1)\n",
    "fig.colorbar(ax1, orientation = 'horizontal').set_label(label = '% of maximum PV power output', size = fontsize)\n",
    "plt.show()\n",
    "plt.savefig('TruevPred_Matrix.eps')\n",
    "\n",
    "# Plot all input & corresponding output\n",
    "import functions_temp as func\n",
    "func.plot_train_test(x_test1, \n",
    "                     y_test1, \n",
    "                     fig_title = 'input_output_plot.eps', \n",
    "                     fontsize = fontsize+8, \n",
    "                     predictions = predictions)\n",
    "\n",
    "sample = np.array([2,4,150])\n",
    "func.plot_train_test(x_test1[sample], \n",
    "                     y_test1[sample], \n",
    "                     fig_title = 'input_output_plot_samples_da.eps', \n",
    "                     predictions = predictions[sample], \n",
    "                     fontsize = fontsize+8)\n",
    "\n",
    "def plot_DWT_components(day, source_name, select_feature, var_name):\n",
    "    temp = []\n",
    "    for i in range(x_test1.shape[0]):\n",
    "        test = pd.DataFrame(x_test1[i,:,:], columns = cols)\n",
    "        temp.append(test[[source_name, dwt4[0+select_feature], dwt4[9+select_feature], dwt4[18+select_feature], dwt4[27+select_feature], dwt4[36+select_feature]]].values)\n",
    "    temp = np.array(temp)\n",
    "    test2 = pd.DataFrame(temp[day,:,:])\n",
    "    colors = ['r','g','b','c','m', 'y']\n",
    "    dwt_level = len(test2.columns)\n",
    "    columns = [var_name, 'DWT level 4 approximation function', 'DWT level 4 detailed function', 'DWT level 3 detailed function', 'DWT level 2 detailed function', 'DWT level 1 detailed function',]\n",
    "    fig, axs = plt.subplots(dwt_level,1, sharex = True, figsize=(12,7), tight_layout=True)\n",
    "    for i in range(dwt_level):\n",
    "        axs[i].plot(test2.iloc[:300,i], label=columns[i], color=colors[i])\n",
    "        axs[i].set_title(columns[i], fontsize = fontsize)\n",
    "    plt.xlabel('Time in minutes (5 hours total)', fontsize = fontsize+1)\n",
    "    fig.savefig(var_name  + '_dwt.eps')\n",
    "plot_DWT_components(100, '151', 0, 'PV power')\n",
    "\n",
    "plt.figure()\n",
    "sns.distplot(y_test1, hist=False, label='True').set_xlim(left = 0)\n",
    "sns.distplot(predictions.reshape(predictions.size), hist=False, label = 'Predictions')\n",
    "plt.ylabel('% values', fontsize = fontsize+1)\n",
    "plt.xlabel('% maximum PV power output in test set', fontsize = fontsize+1)\n",
    "plt.legend(fontsize = fontsize-1)\n",
    "plt.savefig('frequency_histogram.eps')"
   ]
  },
  {
   "cell_type": "markdown",
   "metadata": {},
   "source": [
    "## As far as I can tell, only the code used to generate the mean ramp score v mse graph is missing from this compilation. Every other code files varied from job to job but the essentials are all in here."
   ]
  }
 ],
 "metadata": {
  "kernelspec": {
   "display_name": "Python 3",
   "language": "python",
   "name": "python3"
  },
  "language_info": {
   "codemirror_mode": {
    "name": "ipython",
    "version": 3
   },
   "file_extension": ".py",
   "mimetype": "text/x-python",
   "name": "python",
   "nbconvert_exporter": "python",
   "pygments_lexer": "ipython3",
   "version": "3.7.7"
  }
 },
 "nbformat": 4,
 "nbformat_minor": 4
}
