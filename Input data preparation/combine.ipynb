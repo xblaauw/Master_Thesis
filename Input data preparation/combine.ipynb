{
 "cells": [
  {
   "cell_type": "code",
   "execution_count": 22,
   "metadata": {},
   "outputs": [],
   "source": [
    "import pandas as pd\n",
    "import numpy as np\n",
    "import matplotlib.pyplot as plt\n",
    "import seaborn as sns"
   ]
  },
  {
   "cell_type": "code",
   "execution_count": 23,
   "metadata": {},
   "outputs": [
    {
     "data": {
      "text/plain": [
       "Index(['DR_PWS_10', 'DR_REGENM_10', 'WW_COR_10', 'RI_PWS_10', 'RI_REGENM_10'], dtype='object')"
      ]
     },
     "execution_count": 23,
     "metadata": {},
     "output_type": "execute_result"
    }
   ],
   "source": [
    "neerslag = pd.read_csv('2015-2017_neerslaggegevens_debilt_locatie_A.csv',\n",
    "                      index_col = '# DTG', parse_dates = True)\n",
    "neerslag = neerslag.drop(['LATITUDE', 'LONGITUDE', 'ALTITUDE'], axis = 1)\n",
    "neerslag.columns"
   ]
  },
  {
   "cell_type": "code",
   "execution_count": 24,
   "metadata": {},
   "outputs": [
    {
     "data": {
      "text/plain": [
       "Index(['U_BOOL_10', 'T_DRYB_10', 'TN_10CM_PAST_6H_10', 'T_DEWP_10',\n",
       "       'T_DEWP_SEA_10', 'T_DRYB_SEA_10', 'TN_DRYB_10', 'T_WETB_10',\n",
       "       'TX_DRYB_10', 'U_10', 'U_SEA_10'],\n",
       "      dtype='object')"
      ]
     },
     "execution_count": 24,
     "metadata": {},
     "output_type": "execute_result"
    }
   ],
   "source": [
    "vocht_temp = pd.read_csv('2015-2017_vochtigheid_en_temperatuur_de_bilt.csv',\n",
    "                        index_col = '# DTG', parse_dates = True)\n",
    "vocht_temp = vocht_temp.drop(['LATITUDE', 'LONGITUDE', 'ALTITUDE'], axis = 1)\n",
    "vocht_temp.columns"
   ]
  },
  {
   "cell_type": "code",
   "execution_count": 25,
   "metadata": {},
   "outputs": [
    {
     "data": {
      "text/plain": [
       "Index(['P_NAP_MSL_10', 'P_STN_LEVEL_10', 'P_SENSOR_10', 'VV_10',\n",
       "       'WW_IND_CURR_10', 'WW_IND_PAST_10_10', 'WW_CURR_10', 'WW_PAST_10',\n",
       "       'AH_10', 'MOR_10'],\n",
       "      dtype='object')"
      ]
     },
     "execution_count": 25,
     "metadata": {},
     "output_type": "execute_result"
    }
   ],
   "source": [
    "weer_druk = pd.read_csv('2015-2017_weer_en_luchtdruk_de_bilt_testlocatie_A.csv',\n",
    "                        index_col = '# DTG', parse_dates = True)\n",
    "weer_druk = weer_druk.drop(['LATITUDE', 'LONGITUDE', 'ALTITUDE'], axis = 1)\n",
    "weer_druk.columns"
   ]
  },
  {
   "cell_type": "code",
   "execution_count": 26,
   "metadata": {},
   "outputs": [
    {
     "data": {
      "text/plain": [
       "Index(['FF_10M_10', 'DD_10', 'DDN_10', 'DD_STD_10', 'DDX_10', 'FF_SENSOR_10',\n",
       "       'FF_10M_STD_10', 'FX_10M_10', 'FX_10M_MD_10', 'FX_SENSOR_10',\n",
       "       'FX_SENSOR_MD_10', 'SQUALL_10'],\n",
       "      dtype='object')"
      ]
     },
     "execution_count": 26,
     "metadata": {},
     "output_type": "execute_result"
    }
   ],
   "source": [
    "wind = pd.read_csv('2015-2017_windgegevens_debilt_locatie_A.csv',\n",
    "                        index_col = '# DTG', parse_dates = True)\n",
    "wind = wind.drop(['LATITUDE', 'LONGITUDE', 'ALTITUDE'], axis = 1)\n",
    "wind.columns"
   ]
  },
  {
   "cell_type": "code",
   "execution_count": 27,
   "metadata": {},
   "outputs": [
    {
     "data": {
      "text/plain": [
       "Index(['Q_GLOB_10', 'QN_GLOB_10', 'QX_GLOB_10', 'SQ_10'], dtype='object')"
      ]
     },
     "execution_count": 27,
     "metadata": {},
     "output_type": "execute_result"
    }
   ],
   "source": [
    "zonneschijn = pd.read_csv('2015-2017_zonneschijnduur_en_straling_debilt.csv',\n",
    "                        index_col = '# DTG', parse_dates = True)\n",
    "zonneschijn = zonneschijn.drop(['LATITUDE', 'LONGITUDE', 'ALTITUDE'], axis = 1)\n",
    "zonneschijn.columns"
   ]
  },
  {
   "cell_type": "code",
   "execution_count": 28,
   "metadata": {},
   "outputs": [],
   "source": [
    "features = neerslag.join([vocht_temp, weer_druk, wind, zonneschijn])"
   ]
  },
  {
   "cell_type": "code",
   "execution_count": 29,
   "metadata": {},
   "outputs": [],
   "source": [
    "features_15T = features.resample('15T').mean()\n",
    "features_1T = features.resample('1T').mean()"
   ]
  },
  {
   "cell_type": "code",
   "execution_count": 30,
   "metadata": {},
   "outputs": [],
   "source": [
    "features_15T = features_15T.interpolate(limit = 4)\n",
    "features_1T = features_1T.interpolate(limit = 60)"
   ]
  },
  {
   "cell_type": "code",
   "execution_count": 31,
   "metadata": {},
   "outputs": [],
   "source": [
    "def drop_vars(df):\n",
    "    # neerslaggegevens\n",
    "    df = df.drop('DR_PWS_10', axis=1)\n",
    "    df = df.drop('WW_COR_10', axis=1)\n",
    "    df = df.drop('RI_PWS_10', axis=1)\n",
    "    df = df.drop('SQUALL_10', axis=1)\n",
    "    \n",
    "    # vocht & temp\n",
    "    df = df.drop('T_DEWP_SEA_10', axis=1)\n",
    "    df = df.drop('T_DRYB_SEA_10', axis=1)\n",
    "    df = df.drop('U_SEA_10', axis=1)\n",
    "\n",
    "    # weer & luchtdruk\n",
    "    df = df.drop('P_STN_LEVEL_10', axis=1)\n",
    "    df = df.drop('P_SENSOR_10', axis=1)\n",
    "    df = df.drop('WW_IND_CURR_10', axis=1)\n",
    "    df = df.drop('WW_IND_PAST_10_10', axis=1)\n",
    "    df = df.drop('WW_CURR_10', axis=1)\n",
    "    df = df.drop('WW_PAST_10', axis=1)\n",
    "    \n",
    "    # wind\n",
    "    df = df.drop('FX_10M_10', axis=1)\n",
    "    df = df.drop('FX_10M_MD_10', axis=1)\n",
    "    df = df.drop('FX_SENSOR_MD_10', axis=1)\n",
    "    return df\n",
    "\n",
    "features = drop_vars(features)\n",
    "features_1T = drop_vars(features_1T)\n",
    "features_15T = drop_vars(features_15T)"
   ]
  },
  {
   "cell_type": "code",
   "execution_count": 32,
   "metadata": {},
   "outputs": [],
   "source": [
    "features.to_csv('features.csv', sep = ',')\n",
    "features_15T.to_csv('features_resample-15T_interpolate-4.csv', sep = ',')\n",
    "features_1T.to_csv('features_resample-1T_interpolate-60.csv', sep = ',')"
   ]
  },
  {
   "cell_type": "code",
   "execution_count": 33,
   "metadata": {},
   "outputs": [],
   "source": [
    "features_15T = pd.read_csv('features_resample-15T_interpolate-4.csv',\n",
    "                       index_col = '# DTG',\n",
    "                       parse_dates = True)\n",
    "features_1T = pd.read_csv('features_resample-1T_interpolate-60.csv',\n",
    "                       index_col = '# DTG',\n",
    "                       parse_dates = True)\n",
    "pv_1T = pd.read_csv('all_data_resample-1T_interpolate-60.csv', \n",
    "                    index_col = 0,\n",
    "                    parse_dates = True)\n",
    "pv_15T = pd.read_csv('all_data_resample-15T_interpolate-4.csv', \n",
    "                    index_col = 0,\n",
    "                    parse_dates = True)"
   ]
  },
  {
   "cell_type": "code",
   "execution_count": 34,
   "metadata": {},
   "outputs": [],
   "source": [
    "pv_1T = pv_1T.tz_localize(None)\n",
    "pv_15T = pv_15T.tz_localize(None)\n",
    "all_data_1T = pv_1T.join([features_1T])\n",
    "all_data_15T = pv_15T.join([features_15T])\n",
    "all_data_1T.to_csv('all_data_1T.csv', sep = ',')\n",
    "all_data_15T.to_csv('all_data_15T.csv', sep = ',')"
   ]
  }
 ],
 "metadata": {
  "kernelspec": {
   "display_name": "Python 3",
   "language": "python",
   "name": "python3"
  },
  "language_info": {
   "codemirror_mode": {
    "name": "ipython",
    "version": 3
   },
   "file_extension": ".py",
   "mimetype": "text/x-python",
   "name": "python",
   "nbconvert_exporter": "python",
   "pygments_lexer": "ipython3",
   "version": "3.7.7"
  }
 },
 "nbformat": 4,
 "nbformat_minor": 4
}
