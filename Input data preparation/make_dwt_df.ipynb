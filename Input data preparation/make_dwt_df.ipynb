{
 "cells": [
  {
   "cell_type": "code",
   "execution_count": 49,
   "metadata": {},
   "outputs": [],
   "source": [
    "import pandas as pd\n",
    "import numpy as np\n",
    "import pywt\n",
    "import matplotlib.pyplot as plt"
   ]
  },
  {
   "cell_type": "code",
   "execution_count": 74,
   "metadata": {},
   "outputs": [],
   "source": [
    "df = pd.read_csv('ML_input_1T.csv', index_col = 0, parse_dates = True)\n",
    "df = df[['151', 'FF_10M_10', 'FF_SENSOR_10', 'FF_10M_STD_10', 'FX_SENSOR_10', 'Q_GLOB_10',\n",
    "       'QN_GLOB_10', 'QX_GLOB_10', 'SQ_10']]"
   ]
  },
  {
   "cell_type": "code",
   "execution_count": 75,
   "metadata": {},
   "outputs": [
    {
     "data": {
      "text/plain": [
       "Index(['151', 'FF_10M_10', 'FF_SENSOR_10', 'FF_10M_STD_10', 'FX_SENSOR_10',\n",
       "       'Q_GLOB_10', 'QN_GLOB_10', 'QX_GLOB_10', 'SQ_10'],\n",
       "      dtype='object')"
      ]
     },
     "execution_count": 75,
     "metadata": {},
     "output_type": "execute_result"
    }
   ],
   "source": [
    "df.columns"
   ]
  },
  {
   "cell_type": "code",
   "execution_count": 76,
   "metadata": {},
   "outputs": [],
   "source": [
    "coeff_one = pywt.wavedec(df, 'haar', level = 1, axis = 0)\n",
    "coeff_two = pywt.wavedec(df, 'haar', level = 2, axis = 0)\n",
    "coeff_three = pywt.wavedec(df, 'haar', level = 3, axis = 0)\n",
    "coeff_four = pywt.wavedec(df, 'haar', level = 4, axis = 0)"
   ]
  },
  {
   "cell_type": "code",
   "execution_count": 77,
   "metadata": {},
   "outputs": [
    {
     "name": "stdout",
     "output_type": "stream",
     "text": [
      "98640 98640 197280 394560 789120 1578240\n"
     ]
    }
   ],
   "source": [
    "print(len(coeff_four[0]), len(coeff_four[1]), len(coeff_four[2]), len(coeff_four[3]), len(coeff_four[4]), len(df),  )"
   ]
  },
  {
   "cell_type": "code",
   "execution_count": 78,
   "metadata": {},
   "outputs": [],
   "source": [
    "limit = 1576800\n",
    "\n",
    "def upsample_dwt_interpolate(arr, factor):\n",
    "    frequency = str(factor) + 'ms'\n",
    "    index = pd.date_range('1/1/2000', periods=len(arr), freq=frequency)\n",
    "    data = pd.DataFrame(arr, index = index)\n",
    "    data = data.resample('ms').asfreq()\n",
    "    data = data.interpolate('linear')\n",
    "    data = data.values\n",
    "    data = data[:limit,:]\n",
    "    return data\n",
    "\n",
    "def upsample_dwt_levels(df, coeff):\n",
    "    data = []\n",
    "    for i in range(len(coeff)):\n",
    "        factor = len(df) / len(coeff[i])\n",
    "        upsample = upsample_dwt_interpolate(coeff[i], factor)\n",
    "        data.append(upsample)\n",
    "    return data\n",
    "\n",
    "one = upsample_dwt_levels(df, coeff_one)\n",
    "two = upsample_dwt_levels(df, coeff_two)\n",
    "three = upsample_dwt_levels(df, coeff_three)\n",
    "four = upsample_dwt_levels(df, coeff_four)"
   ]
  },
  {
   "cell_type": "code",
   "execution_count": 86,
   "metadata": {},
   "outputs": [],
   "source": [
    "one_0 = pd.DataFrame(one[0], columns = df.columns).add_prefix('dwt1_0_')\n",
    "one_1 = pd.DataFrame(one[1], columns = df.columns).add_prefix('dwt1_1_')\n",
    "first = [one_0, one_1]\n",
    "first = pd.concat(first, axis = 1)\n",
    "\n",
    "two_0 = pd.DataFrame(two[0], columns = df.columns).add_prefix('dwt2_0_')\n",
    "two_1 = pd.DataFrame(two[1], columns = df.columns).add_prefix('dwt2_1_')\n",
    "two_2 = pd.DataFrame(two[2], columns = df.columns).add_prefix('dwt2_2_')\n",
    "second = [two_0, two_1, two_2]\n",
    "second = pd.concat(second, axis = 1)\n",
    "\n",
    "three_0 = pd.DataFrame(three[0], columns = df.columns).add_prefix('dwt3_0_')\n",
    "three_1 = pd.DataFrame(three[1], columns = df.columns).add_prefix('dwt3_1_')\n",
    "three_2 = pd.DataFrame(three[2], columns = df.columns).add_prefix('dwt3_2_')\n",
    "three_3 = pd.DataFrame(three[3], columns = df.columns).add_prefix('dwt3_3_')\n",
    "third = [three_0, three_1, three_2, three_3]\n",
    "third = pd.concat(third, axis = 1)\n",
    "\n",
    "four_0 = pd.DataFrame(four[0], columns = df.columns).add_prefix('dwt4_0_')\n",
    "four_1 = pd.DataFrame(four[1], columns = df.columns).add_prefix('dwt4_1_')\n",
    "four_2 = pd.DataFrame(four[2], columns = df.columns).add_prefix('dwt4_2_')\n",
    "four_3 = pd.DataFrame(four[3], columns = df.columns).add_prefix('dwt4_3_')\n",
    "four_4 = pd.DataFrame(four[4], columns = df.columns).add_prefix('dwt4_4_')\n",
    "fourth = [four_0, four_1, four_2, four_3, four_4]\n",
    "fourth = pd.concat(fourth, axis = 1)\n",
    "\n",
    "original = pd.read_csv('ML_input_1T.csv', index_col = 0, parse_dates = True)\n",
    "original_cols = original.columns\n",
    "original = original[:limit].values\n",
    "original = pd.DataFrame(original, columns = original_cols)\n",
    "dwt = pd.concat([first, second, third, fourth], axis = 1)\n",
    "dwt = pd.concat([original, dwt], axis = 1)\n",
    "dwt.index = df[:limit].index"
   ]
  },
  {
   "cell_type": "code",
   "execution_count": 88,
   "metadata": {},
   "outputs": [],
   "source": [
    "dwt.to_csv('ML_input_1T_dwt.csv', sep=',')"
   ]
  },
  {
   "cell_type": "code",
   "execution_count": 10,
   "metadata": {},
   "outputs": [
    {
     "name": "stdout",
     "output_type": "stream",
     "text": [
      "(105216, 51)\n"
     ]
    }
   ],
   "source": [
    "\"\"\"original = pd.read_csv('ML_input_15T.csv', index_col = 0, parse_dates = True)\n",
    "original_cols = original.columns\n",
    "print(original.values.shape)\"\"\"\n"
   ]
  },
  {
   "cell_type": "code",
   "execution_count": 56,
   "metadata": {},
   "outputs": [],
   "source": [
    "test = pd.read_csv('test_15.csv')"
   ]
  },
  {
   "cell_type": "code",
   "execution_count": 87,
   "metadata": {},
   "outputs": [
    {
     "data": {
      "text/plain": [
       "151                    149848\n",
       "181                    274153\n",
       "192                    148964\n",
       "226                    189595\n",
       "262                    291428\n",
       "                        ...  \n",
       "dwt4_4_FX_SENSOR_10        10\n",
       "dwt4_4_Q_GLOB_10           10\n",
       "dwt4_4_QN_GLOB_10          10\n",
       "dwt4_4_QX_GLOB_10          10\n",
       "dwt4_4_SQ_10               10\n",
       "Length: 177, dtype: int64"
      ]
     },
     "execution_count": 87,
     "metadata": {},
     "output_type": "execute_result"
    }
   ],
   "source": [
    "dwt.isna().sum()"
   ]
  },
  {
   "cell_type": "code",
   "execution_count": 36,
   "metadata": {},
   "outputs": [
    {
     "name": "stdout",
     "output_type": "stream",
     "text": [
      "151\n",
      "181\n",
      "192\n",
      "226\n",
      "262\n",
      "288\n",
      "317\n",
      "373\n",
      "380\n",
      "532\n",
      "year_2015\n",
      "year_2016\n",
      "year_2017\n",
      "month_sin\n",
      "month_cos\n",
      "day_sin\n",
      "day_cos\n",
      "hour_sin\n",
      "hour_cos\n",
      "minute_sin\n",
      "minute_cos\n",
      "DR_REGENM_10\n",
      "RI_REGENM_10\n",
      "U_BOOL_10\n",
      "T_DRYB_10\n",
      "TN_10CM_PAST_6H_10\n",
      "T_DEWP_10\n",
      "TN_DRYB_10\n",
      "T_WETB_10\n",
      "TX_DRYB_10\n",
      "U_10\n",
      "P_NAP_MSL_10\n",
      "VV_10\n",
      "AH_10\n",
      "MOR_10\n",
      "FF_10M_10\n",
      "DD_10_sin\n",
      "DD_10_cos\n",
      "DDN_10_sin\n",
      "DDN_10_cos\n",
      "DD_STD_10_sin\n",
      "DD_STD_10_cos\n",
      "DDX_10_sin\n",
      "DDX_10_cos\n",
      "FF_SENSOR_10\n",
      "FF_10M_STD_10\n",
      "FX_SENSOR_10\n",
      "Q_GLOB_10\n",
      "QN_GLOB_10\n",
      "QX_GLOB_10\n",
      "SQ_10\n",
      "dwt1_0_151\n",
      "dwt1_0_FF_10M_10\n",
      "dwt1_0_FF_SENSOR_10\n",
      "dwt1_0_FF_10M_STD_10\n",
      "dwt1_0_FX_SENSOR_10\n",
      "dwt1_0_Q_GLOB_10\n",
      "dwt1_0_QN_GLOB_10\n",
      "dwt1_0_QX_GLOB_10\n",
      "dwt1_0_SQ_10\n",
      "dwt1_1_151\n",
      "dwt1_1_FF_10M_10\n",
      "dwt1_1_FF_SENSOR_10\n",
      "dwt1_1_FF_10M_STD_10\n",
      "dwt1_1_FX_SENSOR_10\n",
      "dwt1_1_Q_GLOB_10\n",
      "dwt1_1_QN_GLOB_10\n",
      "dwt1_1_QX_GLOB_10\n",
      "dwt1_1_SQ_10\n",
      "dwt2_0_151\n",
      "dwt2_0_FF_10M_10\n",
      "dwt2_0_FF_SENSOR_10\n",
      "dwt2_0_FF_10M_STD_10\n",
      "dwt2_0_FX_SENSOR_10\n",
      "dwt2_0_Q_GLOB_10\n",
      "dwt2_0_QN_GLOB_10\n",
      "dwt2_0_QX_GLOB_10\n",
      "dwt2_0_SQ_10\n",
      "dwt2_1_151\n",
      "dwt2_1_FF_10M_10\n",
      "dwt2_1_FF_SENSOR_10\n",
      "dwt2_1_FF_10M_STD_10\n",
      "dwt2_1_FX_SENSOR_10\n",
      "dwt2_1_Q_GLOB_10\n",
      "dwt2_1_QN_GLOB_10\n",
      "dwt2_1_QX_GLOB_10\n",
      "dwt2_1_SQ_10\n",
      "dwt2_2_151\n",
      "dwt2_2_FF_10M_10\n",
      "dwt2_2_FF_SENSOR_10\n",
      "dwt2_2_FF_10M_STD_10\n",
      "dwt2_2_FX_SENSOR_10\n",
      "dwt2_2_Q_GLOB_10\n",
      "dwt2_2_QN_GLOB_10\n",
      "dwt2_2_QX_GLOB_10\n",
      "dwt2_2_SQ_10\n",
      "dwt3_0_151\n",
      "dwt3_0_FF_10M_10\n",
      "dwt3_0_FF_SENSOR_10\n",
      "dwt3_0_FF_10M_STD_10\n",
      "dwt3_0_FX_SENSOR_10\n",
      "dwt3_0_Q_GLOB_10\n",
      "dwt3_0_QN_GLOB_10\n",
      "dwt3_0_QX_GLOB_10\n",
      "dwt3_0_SQ_10\n",
      "dwt3_1_151\n",
      "dwt3_1_FF_10M_10\n",
      "dwt3_1_FF_SENSOR_10\n",
      "dwt3_1_FF_10M_STD_10\n",
      "dwt3_1_FX_SENSOR_10\n",
      "dwt3_1_Q_GLOB_10\n",
      "dwt3_1_QN_GLOB_10\n",
      "dwt3_1_QX_GLOB_10\n",
      "dwt3_1_SQ_10\n",
      "dwt3_2_151\n",
      "dwt3_2_FF_10M_10\n",
      "dwt3_2_FF_SENSOR_10\n",
      "dwt3_2_FF_10M_STD_10\n",
      "dwt3_2_FX_SENSOR_10\n",
      "dwt3_2_Q_GLOB_10\n",
      "dwt3_2_QN_GLOB_10\n",
      "dwt3_2_QX_GLOB_10\n",
      "dwt3_2_SQ_10\n",
      "dwt3_3_151\n",
      "dwt3_3_FF_10M_10\n",
      "dwt3_3_FF_SENSOR_10\n",
      "dwt3_3_FF_10M_STD_10\n",
      "dwt3_3_FX_SENSOR_10\n",
      "dwt3_3_Q_GLOB_10\n",
      "dwt3_3_QN_GLOB_10\n",
      "dwt3_3_QX_GLOB_10\n",
      "dwt3_3_SQ_10\n",
      "dwt4_0_151\n",
      "dwt4_0_FF_10M_10\n",
      "dwt4_0_FF_SENSOR_10\n",
      "dwt4_0_FF_10M_STD_10\n",
      "dwt4_0_FX_SENSOR_10\n",
      "dwt4_0_Q_GLOB_10\n",
      "dwt4_0_QN_GLOB_10\n",
      "dwt4_0_QX_GLOB_10\n",
      "dwt4_0_SQ_10\n",
      "dwt4_1_151\n",
      "dwt4_1_FF_10M_10\n",
      "dwt4_1_FF_SENSOR_10\n",
      "dwt4_1_FF_10M_STD_10\n",
      "dwt4_1_FX_SENSOR_10\n",
      "dwt4_1_Q_GLOB_10\n",
      "dwt4_1_QN_GLOB_10\n",
      "dwt4_1_QX_GLOB_10\n",
      "dwt4_1_SQ_10\n",
      "dwt4_2_151\n",
      "dwt4_2_FF_10M_10\n",
      "dwt4_2_FF_SENSOR_10\n",
      "dwt4_2_FF_10M_STD_10\n",
      "dwt4_2_FX_SENSOR_10\n",
      "dwt4_2_Q_GLOB_10\n",
      "dwt4_2_QN_GLOB_10\n",
      "dwt4_2_QX_GLOB_10\n",
      "dwt4_2_SQ_10\n",
      "dwt4_3_151\n",
      "dwt4_3_FF_10M_10\n",
      "dwt4_3_FF_SENSOR_10\n",
      "dwt4_3_FF_10M_STD_10\n",
      "dwt4_3_FX_SENSOR_10\n",
      "dwt4_3_Q_GLOB_10\n",
      "dwt4_3_QN_GLOB_10\n",
      "dwt4_3_QX_GLOB_10\n",
      "dwt4_3_SQ_10\n",
      "dwt4_4_151\n",
      "dwt4_4_FF_10M_10\n",
      "dwt4_4_FF_SENSOR_10\n",
      "dwt4_4_FF_10M_STD_10\n",
      "dwt4_4_FX_SENSOR_10\n",
      "dwt4_4_Q_GLOB_10\n",
      "dwt4_4_QN_GLOB_10\n",
      "dwt4_4_QX_GLOB_10\n",
      "dwt4_4_SQ_10\n"
     ]
    }
   ],
   "source": [
    "for i in dwt.columns:\n",
    "    print(i)"
   ]
  },
  {
   "cell_type": "code",
   "execution_count": 226,
   "metadata": {},
   "outputs": [
    {
     "data": {
      "text/plain": [
       "['dwt1_0_151',\n",
       " 'dwt1_0_FF_10M_10',\n",
       " 'dwt1_0_FF_SENSOR_10',\n",
       " 'dwt1_0_FF_10M_STD_10',\n",
       " 'dwt1_0_FX_SENSOR_10',\n",
       " 'dwt1_0_Q_GLOB_10',\n",
       " 'dwt1_0_QN_GLOB_10',\n",
       " 'dwt1_0_QX_GLOB_10',\n",
       " 'dwt1_0_SQ_10',\n",
       " 'dwt1_1_151',\n",
       " 'dwt1_1_FF_10M_10',\n",
       " 'dwt1_1_FF_SENSOR_10',\n",
       " 'dwt1_1_FF_10M_STD_10',\n",
       " 'dwt1_1_FX_SENSOR_10',\n",
       " 'dwt1_1_Q_GLOB_10',\n",
       " 'dwt1_1_QN_GLOB_10',\n",
       " 'dwt1_1_QX_GLOB_10',\n",
       " 'dwt1_1_SQ_10']"
      ]
     },
     "execution_count": 226,
     "metadata": {},
     "output_type": "execute_result"
    }
   ],
   "source": [
    "list(dwt[dwt.columns[dwt.columns.str.startswith('dwt1', na=False)]].columns)"
   ]
  }
 ],
 "metadata": {
  "kernelspec": {
   "display_name": "Python 3",
   "language": "python",
   "name": "python3"
  },
  "language_info": {
   "codemirror_mode": {
    "name": "ipython",
    "version": 3
   },
   "file_extension": ".py",
   "mimetype": "text/x-python",
   "name": "python",
   "nbconvert_exporter": "python",
   "pygments_lexer": "ipython3",
   "version": "3.7.7"
  }
 },
 "nbformat": 4,
 "nbformat_minor": 4
}
