{
 "cells": [
  {
   "cell_type": "code",
   "execution_count": 1,
   "metadata": {},
   "outputs": [
    {
     "data": {
      "text/plain": [
       "'C:\\\\Users\\\\Xander\\\\Documents\\\\Thesis\\\\Model_Xander\\\\pv_data\\\\neerslaggegevens'"
      ]
     },
     "execution_count": 1,
     "metadata": {},
     "output_type": "execute_result"
    }
   ],
   "source": [
    "import pandas as pd\n",
    "import os\n",
    "import numpy as np\n",
    "os.getcwd()"
   ]
  },
  {
   "cell_type": "code",
   "execution_count": 2,
   "metadata": {},
   "outputs": [
    {
     "name": "stdout",
     "output_type": "stream",
     "text": [
      "174096\n",
      "LOCATION            0\n",
      "NAME                0\n",
      "LATITUDE            0\n",
      "LONGITUDE           0\n",
      "ALTITUDE            0\n",
      "DR_PWS_10       78146\n",
      "DR_REGENM_10    25125\n",
      "WW_COR_10       67536\n",
      "RI_PWS_10       80321\n",
      "RI_REGENM_10    21105\n",
      "dtype: int64\n",
      "['Voorschoten' 'De Kooy waarneemterrein' 'Schiphol locatie 18Ct'\n",
      " 'Vlieland locatie A' 'Berkhout' 'Hoorn Terschelling' 'Wijk aan Zee'\n",
      " 'De Bilt locatie A' 'De Bilt testlocatie A' 'Stavoren'\n",
      " 'Lelystad locatie 23t' 'Leeuwarden locatie A' 'Leeuwarden locatie obs24t'\n",
      " 'Marknesse' 'Deelen locatie A' 'Deelen locatie obs02t' 'Lauwersoog'\n",
      " 'Heino' 'Hoogeveen' 'Eelde locatie 23t' 'Hupsel' 'Nieuw Beerta'\n",
      " 'Twenthe locatie A' 'Twenthe locatie 24t' 'Vlissingen' 'Westdorpe'\n",
      " 'Wilhelminadorp' 'Hoek van Holland' 'Woensdrecht locatie A'\n",
      " 'Rotterdam locatie 24t' 'Cabauw locatie A' 'Gilze-Rijen locatie 10t'\n",
      " 'Herwijnen' 'Eindhoven locatie A' 'Eindhoven locatie obs22t'\n",
      " 'Volkel locatie A' 'Volkel locatie obs24Rt' 'Ell'\n",
      " 'Maastricht locatie 22t' 'Arcen' 'Bonaire']\n",
      "Index(['LOCATION', 'NAME', 'LATITUDE', 'LONGITUDE', 'ALTITUDE', 'DR_PWS_10',\n",
      "       'DR_REGENM_10', 'WW_COR_10', 'RI_PWS_10', 'RI_REGENM_10'],\n",
      "      dtype='object')\n"
     ]
    }
   ],
   "source": [
    "#FOR NEERSLAGGEGEVENS ONLY\n",
    "col_specs = [(0, 21), (21, 41), (41, 89), (89, 109), (109, 129), (129, 149), (149, 169), (169, 189), (189, 209), (209, 229), (229, 249)]\n",
    "\n",
    "header = 14\n",
    "file_name = 'kis_tor_'\n",
    "\n",
    "df = pd.read_fwf(file_name + '20150131', colspecs = col_specs,\n",
    "                 header = header, parse_dates = True, index_col = '# DTG')\n",
    "print(len(df))\n",
    "print(df.isna().sum())\n",
    "print(df['NAME'].unique())\n",
    "print(df.columns)"
   ]
  },
  {
   "cell_type": "code",
   "execution_count": 5,
   "metadata": {},
   "outputs": [
    {
     "name": "stdout",
     "output_type": "stream",
     "text": [
      "4464\n"
     ]
    },
    {
     "data": {
      "text/plain": [
       "LATITUDE          0\n",
       "LONGITUDE         0\n",
       "ALTITUDE          0\n",
       "DR_PWS_10       215\n",
       "DR_REGENM_10    201\n",
       "WW_COR_10       207\n",
       "RI_PWS_10       215\n",
       "RI_REGENM_10    201\n",
       "dtype: int64"
      ]
     },
     "execution_count": 5,
     "metadata": {},
     "output_type": "execute_result"
    }
   ],
   "source": [
    "name = 'De Bilt locatie A'\n",
    "\n",
    "test = df.loc[df['NAME'] == name]\n",
    "test = test.drop(labels = ['NAME', 'LOCATION'], axis = 1)\n",
    "print(len(test))\n",
    "test.isna().sum()"
   ]
  },
  {
   "cell_type": "code",
   "execution_count": 6,
   "metadata": {},
   "outputs": [
    {
     "name": "stdout",
     "output_type": "stream",
     "text": [
      "kis_tor_20150131\n",
      "kis_tor_20150228\n",
      "kis_tor_20150331\n",
      "kis_tor_20150430\n",
      "kis_tor_20150531\n",
      "kis_tor_20150630\n",
      "kis_tor_20150731\n",
      "kis_tor_20150831\n",
      "kis_tor_20150930\n",
      "kis_tor_20151031\n",
      "kis_tor_20151130\n",
      "kis_tor_20151231\n",
      "kis_tor_20160131\n",
      "kis_tor_20160229\n",
      "kis_tor_20160331\n",
      "kis_tor_20160430\n",
      "kis_tor_20160531\n",
      "kis_tor_20160630\n",
      "kis_tor_20160731\n",
      "kis_tor_20160831\n",
      "kis_tor_20160930\n",
      "kis_tor_20161031\n",
      "kis_tor_20161130\n",
      "kis_tor_20161231\n",
      "kis_tor_20170131\n",
      "kis_tor_20170228\n",
      "kis_tor_20170331\n",
      "kis_tor_20170430\n",
      "kis_tor_20170531\n",
      "kis_tor_20170630\n",
      "kis_tor_20170731\n",
      "kis_tor_20170831\n",
      "kis_tor_20170930\n",
      "kis_tor_20171031\n",
      "kis_tor_20171130\n",
      "kis_tor_20171231\n"
     ]
    }
   ],
   "source": [
    "#FOR vochtigheid&temperatuur ONLY\n",
    "list_of_files = os.listdir(os.getcwd()) #list of files in the current directory\n",
    "all_data = pd.DataFrame()\n",
    "list_of_files = os.listdir(os.getcwd()) #list of files in the current directory\n",
    "for each_file in list_of_files:\n",
    "    if each_file.startswith(file_name):  #since its all type str you can simply use startswith\n",
    "        print (each_file)\n",
    "        df = pd.read_fwf(each_file, colspecs = col_specs,\n",
    "                         header = header, parse_dates = True, index_col = '# DTG')\n",
    "        debilt = df.loc[df['NAME'] == name]\n",
    "        debilt = debilt.drop(labels = ['NAME', 'LOCATION'], axis = 1)\n",
    "        all_data = all_data.append(debilt)\n",
    "all_data.to_csv('2015-2017_neerslaggegevens_debilt_locatie_A.csv', sep=',')"
   ]
  },
  {
   "cell_type": "code",
   "execution_count": 7,
   "metadata": {},
   "outputs": [
    {
     "name": "stdout",
     "output_type": "stream",
     "text": [
      "156672\n",
      "LATITUDE          0\n",
      "LONGITUDE         0\n",
      "ALTITUDE          0\n",
      "DR_PWS_10       796\n",
      "DR_REGENM_10    849\n",
      "WW_COR_10       884\n",
      "RI_PWS_10       933\n",
      "RI_REGENM_10    849\n",
      "dtype: int64\n",
      "Index(['LATITUDE', 'LONGITUDE', 'ALTITUDE', 'DR_PWS_10', 'DR_REGENM_10',\n",
      "       'WW_COR_10', 'RI_PWS_10', 'RI_REGENM_10'],\n",
      "      dtype='object')\n",
      "                      LATITUDE  LONGITUDE  ALTITUDE  DR_PWS_10  DR_REGENM_10  \\\n",
      "# DTG                                                                          \n",
      "2015-01-01 00:10:00  52.098889   5.179722       1.9        0.0           0.0   \n",
      "2015-01-01 00:20:00  52.098889   5.179722       1.9        0.0           0.0   \n",
      "2015-01-01 00:30:00  52.098889   5.179722       1.9        0.0           0.0   \n",
      "2015-01-01 00:40:00  52.098889   5.179722       1.9        0.0           0.0   \n",
      "2015-01-01 00:50:00  52.098889   5.179722       1.9        0.0           0.0   \n",
      "...                        ...        ...       ...        ...           ...   \n",
      "2017-12-31 23:20:00  52.098889   5.179722       1.9        0.0           0.0   \n",
      "2017-12-31 23:30:00  52.098889   5.179722       1.9        0.0           0.0   \n",
      "2017-12-31 23:40:00  52.098889   5.179722       1.9        0.0           0.0   \n",
      "2017-12-31 23:50:00  52.098889   5.179722       1.9        0.0           0.0   \n",
      "2018-01-01 00:00:00  52.098889   5.179722       1.9        0.0           0.0   \n",
      "\n",
      "                     WW_COR_10  RI_PWS_10  RI_REGENM_10  \n",
      "# DTG                                                    \n",
      "2015-01-01 00:10:00        0.0        0.0           0.0  \n",
      "2015-01-01 00:20:00        0.0        0.0           0.0  \n",
      "2015-01-01 00:30:00        0.0        0.0           0.0  \n",
      "2015-01-01 00:40:00        0.0        0.0           0.0  \n",
      "2015-01-01 00:50:00        0.0        0.0           0.0  \n",
      "...                        ...        ...           ...  \n",
      "2017-12-31 23:20:00        0.0        0.0           0.0  \n",
      "2017-12-31 23:30:00        0.0        0.0           0.0  \n",
      "2017-12-31 23:40:00        0.0        0.0           0.0  \n",
      "2017-12-31 23:50:00        0.0        0.0           0.0  \n",
      "2018-01-01 00:00:00        0.0        0.0           0.0  \n",
      "\n",
      "[156672 rows x 8 columns]\n",
      "LATITUDE        float64\n",
      "LONGITUDE       float64\n",
      "ALTITUDE        float64\n",
      "DR_PWS_10       float64\n",
      "DR_REGENM_10    float64\n",
      "WW_COR_10       float64\n",
      "RI_PWS_10       float64\n",
      "RI_REGENM_10    float64\n",
      "dtype: object\n"
     ]
    }
   ],
   "source": [
    "print(len(all_data))\n",
    "print(all_data.isna().sum())\n",
    "print(all_data.columns)\n",
    "print(all_data)\n",
    "print(all_data.dtypes)"
   ]
  }
 ],
 "metadata": {
  "kernelspec": {
   "display_name": "Python 3",
   "language": "python",
   "name": "python3"
  },
  "language_info": {
   "codemirror_mode": {
    "name": "ipython",
    "version": 3
   },
   "file_extension": ".py",
   "mimetype": "text/x-python",
   "name": "python",
   "nbconvert_exporter": "python",
   "pygments_lexer": "ipython3",
   "version": "3.7.7"
  }
 },
 "nbformat": 4,
 "nbformat_minor": 4
}
